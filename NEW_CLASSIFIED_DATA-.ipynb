{
 "cells": [
  {
   "cell_type": "code",
   "execution_count": 5,
   "metadata": {},
   "outputs": [],
   "source": [
    "import pandas as pd\n",
    "import numpy as np\n",
    "import matplotlib.pyplot as plt\n",
    "import seaborn as sns\n",
    "%matplotlib inline"
   ]
  },
  {
   "cell_type": "code",
   "execution_count": 6,
   "metadata": {},
   "outputs": [],
   "source": [
    "dff=pd.read_csv('Classified Data')"
   ]
  },
  {
   "cell_type": "code",
   "execution_count": 7,
   "metadata": {},
   "outputs": [
    {
     "data": {
      "text/html": [
       "<div>\n",
       "<style scoped>\n",
       "    .dataframe tbody tr th:only-of-type {\n",
       "        vertical-align: middle;\n",
       "    }\n",
       "\n",
       "    .dataframe tbody tr th {\n",
       "        vertical-align: top;\n",
       "    }\n",
       "\n",
       "    .dataframe thead th {\n",
       "        text-align: right;\n",
       "    }\n",
       "</style>\n",
       "<table border=\"1\" class=\"dataframe\">\n",
       "  <thead>\n",
       "    <tr style=\"text-align: right;\">\n",
       "      <th></th>\n",
       "      <th>Unnamed: 0</th>\n",
       "      <th>WTT</th>\n",
       "      <th>PTI</th>\n",
       "      <th>EQW</th>\n",
       "      <th>SBI</th>\n",
       "      <th>LQE</th>\n",
       "      <th>QWG</th>\n",
       "      <th>FDJ</th>\n",
       "      <th>PJF</th>\n",
       "      <th>HQE</th>\n",
       "      <th>NXJ</th>\n",
       "      <th>TARGET CLASS</th>\n",
       "    </tr>\n",
       "  </thead>\n",
       "  <tbody>\n",
       "    <tr>\n",
       "      <th>0</th>\n",
       "      <td>0</td>\n",
       "      <td>0.913917</td>\n",
       "      <td>1.162073</td>\n",
       "      <td>0.567946</td>\n",
       "      <td>0.755464</td>\n",
       "      <td>0.780862</td>\n",
       "      <td>0.352608</td>\n",
       "      <td>0.759697</td>\n",
       "      <td>0.643798</td>\n",
       "      <td>0.879422</td>\n",
       "      <td>1.231409</td>\n",
       "      <td>1</td>\n",
       "    </tr>\n",
       "    <tr>\n",
       "      <th>1</th>\n",
       "      <td>1</td>\n",
       "      <td>0.635632</td>\n",
       "      <td>1.003722</td>\n",
       "      <td>0.535342</td>\n",
       "      <td>0.825645</td>\n",
       "      <td>0.924109</td>\n",
       "      <td>0.648450</td>\n",
       "      <td>0.675334</td>\n",
       "      <td>1.013546</td>\n",
       "      <td>0.621552</td>\n",
       "      <td>1.492702</td>\n",
       "      <td>0</td>\n",
       "    </tr>\n",
       "    <tr>\n",
       "      <th>2</th>\n",
       "      <td>2</td>\n",
       "      <td>0.721360</td>\n",
       "      <td>1.201493</td>\n",
       "      <td>0.921990</td>\n",
       "      <td>0.855595</td>\n",
       "      <td>1.526629</td>\n",
       "      <td>0.720781</td>\n",
       "      <td>1.626351</td>\n",
       "      <td>1.154483</td>\n",
       "      <td>0.957877</td>\n",
       "      <td>1.285597</td>\n",
       "      <td>0</td>\n",
       "    </tr>\n",
       "    <tr>\n",
       "      <th>3</th>\n",
       "      <td>3</td>\n",
       "      <td>1.234204</td>\n",
       "      <td>1.386726</td>\n",
       "      <td>0.653046</td>\n",
       "      <td>0.825624</td>\n",
       "      <td>1.142504</td>\n",
       "      <td>0.875128</td>\n",
       "      <td>1.409708</td>\n",
       "      <td>1.380003</td>\n",
       "      <td>1.522692</td>\n",
       "      <td>1.153093</td>\n",
       "      <td>1</td>\n",
       "    </tr>\n",
       "    <tr>\n",
       "      <th>4</th>\n",
       "      <td>4</td>\n",
       "      <td>1.279491</td>\n",
       "      <td>0.949750</td>\n",
       "      <td>0.627280</td>\n",
       "      <td>0.668976</td>\n",
       "      <td>1.232537</td>\n",
       "      <td>0.703727</td>\n",
       "      <td>1.115596</td>\n",
       "      <td>0.646691</td>\n",
       "      <td>1.463812</td>\n",
       "      <td>1.419167</td>\n",
       "      <td>1</td>\n",
       "    </tr>\n",
       "  </tbody>\n",
       "</table>\n",
       "</div>"
      ],
      "text/plain": [
       "   Unnamed: 0       WTT       PTI       EQW       SBI       LQE       QWG  \\\n",
       "0           0  0.913917  1.162073  0.567946  0.755464  0.780862  0.352608   \n",
       "1           1  0.635632  1.003722  0.535342  0.825645  0.924109  0.648450   \n",
       "2           2  0.721360  1.201493  0.921990  0.855595  1.526629  0.720781   \n",
       "3           3  1.234204  1.386726  0.653046  0.825624  1.142504  0.875128   \n",
       "4           4  1.279491  0.949750  0.627280  0.668976  1.232537  0.703727   \n",
       "\n",
       "        FDJ       PJF       HQE       NXJ  TARGET CLASS  \n",
       "0  0.759697  0.643798  0.879422  1.231409             1  \n",
       "1  0.675334  1.013546  0.621552  1.492702             0  \n",
       "2  1.626351  1.154483  0.957877  1.285597             0  \n",
       "3  1.409708  1.380003  1.522692  1.153093             1  \n",
       "4  1.115596  0.646691  1.463812  1.419167             1  "
      ]
     },
     "execution_count": 7,
     "metadata": {},
     "output_type": "execute_result"
    }
   ],
   "source": [
    "dff.head()"
   ]
  },
  {
   "cell_type": "code",
   "execution_count": 8,
   "metadata": {},
   "outputs": [
    {
     "data": {
      "text/html": [
       "<div>\n",
       "<style scoped>\n",
       "    .dataframe tbody tr th:only-of-type {\n",
       "        vertical-align: middle;\n",
       "    }\n",
       "\n",
       "    .dataframe tbody tr th {\n",
       "        vertical-align: top;\n",
       "    }\n",
       "\n",
       "    .dataframe thead th {\n",
       "        text-align: right;\n",
       "    }\n",
       "</style>\n",
       "<table border=\"1\" class=\"dataframe\">\n",
       "  <thead>\n",
       "    <tr style=\"text-align: right;\">\n",
       "      <th></th>\n",
       "      <th>WTT</th>\n",
       "      <th>PTI</th>\n",
       "      <th>EQW</th>\n",
       "      <th>SBI</th>\n",
       "      <th>LQE</th>\n",
       "      <th>QWG</th>\n",
       "      <th>FDJ</th>\n",
       "      <th>PJF</th>\n",
       "      <th>HQE</th>\n",
       "      <th>NXJ</th>\n",
       "      <th>TARGET CLASS</th>\n",
       "    </tr>\n",
       "  </thead>\n",
       "  <tbody>\n",
       "    <tr>\n",
       "      <th>0</th>\n",
       "      <td>0.913917</td>\n",
       "      <td>1.162073</td>\n",
       "      <td>0.567946</td>\n",
       "      <td>0.755464</td>\n",
       "      <td>0.780862</td>\n",
       "      <td>0.352608</td>\n",
       "      <td>0.759697</td>\n",
       "      <td>0.643798</td>\n",
       "      <td>0.879422</td>\n",
       "      <td>1.231409</td>\n",
       "      <td>1</td>\n",
       "    </tr>\n",
       "    <tr>\n",
       "      <th>1</th>\n",
       "      <td>0.635632</td>\n",
       "      <td>1.003722</td>\n",
       "      <td>0.535342</td>\n",
       "      <td>0.825645</td>\n",
       "      <td>0.924109</td>\n",
       "      <td>0.648450</td>\n",
       "      <td>0.675334</td>\n",
       "      <td>1.013546</td>\n",
       "      <td>0.621552</td>\n",
       "      <td>1.492702</td>\n",
       "      <td>0</td>\n",
       "    </tr>\n",
       "    <tr>\n",
       "      <th>2</th>\n",
       "      <td>0.721360</td>\n",
       "      <td>1.201493</td>\n",
       "      <td>0.921990</td>\n",
       "      <td>0.855595</td>\n",
       "      <td>1.526629</td>\n",
       "      <td>0.720781</td>\n",
       "      <td>1.626351</td>\n",
       "      <td>1.154483</td>\n",
       "      <td>0.957877</td>\n",
       "      <td>1.285597</td>\n",
       "      <td>0</td>\n",
       "    </tr>\n",
       "    <tr>\n",
       "      <th>3</th>\n",
       "      <td>1.234204</td>\n",
       "      <td>1.386726</td>\n",
       "      <td>0.653046</td>\n",
       "      <td>0.825624</td>\n",
       "      <td>1.142504</td>\n",
       "      <td>0.875128</td>\n",
       "      <td>1.409708</td>\n",
       "      <td>1.380003</td>\n",
       "      <td>1.522692</td>\n",
       "      <td>1.153093</td>\n",
       "      <td>1</td>\n",
       "    </tr>\n",
       "    <tr>\n",
       "      <th>4</th>\n",
       "      <td>1.279491</td>\n",
       "      <td>0.949750</td>\n",
       "      <td>0.627280</td>\n",
       "      <td>0.668976</td>\n",
       "      <td>1.232537</td>\n",
       "      <td>0.703727</td>\n",
       "      <td>1.115596</td>\n",
       "      <td>0.646691</td>\n",
       "      <td>1.463812</td>\n",
       "      <td>1.419167</td>\n",
       "      <td>1</td>\n",
       "    </tr>\n",
       "  </tbody>\n",
       "</table>\n",
       "</div>"
      ],
      "text/plain": [
       "        WTT       PTI       EQW       SBI       LQE       QWG       FDJ  \\\n",
       "0  0.913917  1.162073  0.567946  0.755464  0.780862  0.352608  0.759697   \n",
       "1  0.635632  1.003722  0.535342  0.825645  0.924109  0.648450  0.675334   \n",
       "2  0.721360  1.201493  0.921990  0.855595  1.526629  0.720781  1.626351   \n",
       "3  1.234204  1.386726  0.653046  0.825624  1.142504  0.875128  1.409708   \n",
       "4  1.279491  0.949750  0.627280  0.668976  1.232537  0.703727  1.115596   \n",
       "\n",
       "        PJF       HQE       NXJ  TARGET CLASS  \n",
       "0  0.643798  0.879422  1.231409             1  \n",
       "1  1.013546  0.621552  1.492702             0  \n",
       "2  1.154483  0.957877  1.285597             0  \n",
       "3  1.380003  1.522692  1.153093             1  \n",
       "4  0.646691  1.463812  1.419167             1  "
      ]
     },
     "execution_count": 8,
     "metadata": {},
     "output_type": "execute_result"
    }
   ],
   "source": [
    "df=pd.read_csv('Classified Data',index_col=0)\n",
    "df.head()"
   ]
  },
  {
   "cell_type": "code",
   "execution_count": 9,
   "metadata": {},
   "outputs": [
    {
     "data": {
      "text/plain": [
       "Index(['WTT', 'PTI', 'EQW', 'SBI', 'LQE', 'QWG', 'FDJ', 'PJF', 'HQE', 'NXJ',\n",
       "       'TARGET CLASS'],\n",
       "      dtype='object')"
      ]
     },
     "execution_count": 9,
     "metadata": {},
     "output_type": "execute_result"
    }
   ],
   "source": [
    "df.columns"
   ]
  },
  {
   "cell_type": "code",
   "execution_count": 10,
   "metadata": {},
   "outputs": [
    {
     "name": "stdout",
     "output_type": "stream",
     "text": [
      "<class 'pandas.core.frame.DataFrame'>\n",
      "Int64Index: 1000 entries, 0 to 999\n",
      "Data columns (total 11 columns):\n",
      "WTT             1000 non-null float64\n",
      "PTI             1000 non-null float64\n",
      "EQW             1000 non-null float64\n",
      "SBI             1000 non-null float64\n",
      "LQE             1000 non-null float64\n",
      "QWG             1000 non-null float64\n",
      "FDJ             1000 non-null float64\n",
      "PJF             1000 non-null float64\n",
      "HQE             1000 non-null float64\n",
      "NXJ             1000 non-null float64\n",
      "TARGET CLASS    1000 non-null int64\n",
      "dtypes: float64(10), int64(1)\n",
      "memory usage: 93.8 KB\n"
     ]
    }
   ],
   "source": [
    "\n",
    "df.info()"
   ]
  },
  {
   "cell_type": "code",
   "execution_count": 11,
   "metadata": {},
   "outputs": [],
   "source": [
    "# no null values (isnull)\n",
    "#no strings (get_dummies)\n",
    "#no missing values(no drop)\n"
   ]
  },
  {
   "cell_type": "code",
   "execution_count": 16,
   "metadata": {},
   "outputs": [
    {
     "data": {
      "text/plain": [
       "<matplotlib.axes._subplots.AxesSubplot at 0x91cf4b0>"
      ]
     },
     "execution_count": 16,
     "metadata": {},
     "output_type": "execute_result"
    },
    {
     "data": {
      "image/png": "[encoded data removed]",
      "text/plain": [
       "<Figure size 864x576 with 2 Axes>"
      ]
     },
     "metadata": {
      "needs_background": "light"
     },
     "output_type": "display_data"
    }
   ],
   "source": [
    "plt.figure(figsize=(12,8))\n",
    "sns.heatmap(df.corr(), annot = True,cmap='coolwarm' )"
   ]
  },
  {
   "cell_type": "code",
   "execution_count": 25,
   "metadata": {},
   "outputs": [
    {
     "data": {
      "text/html": [
       "<div>\n",
       "<style scoped>\n",
       "    .dataframe tbody tr th:only-of-type {\n",
       "        vertical-align: middle;\n",
       "    }\n",
       "\n",
       "    .dataframe tbody tr th {\n",
       "        vertical-align: top;\n",
       "    }\n",
       "\n",
       "    .dataframe thead th {\n",
       "        text-align: right;\n",
       "    }\n",
       "</style>\n",
       "<table border=\"1\" class=\"dataframe\">\n",
       "  <thead>\n",
       "    <tr style=\"text-align: right;\">\n",
       "      <th></th>\n",
       "      <th>WTT</th>\n",
       "      <th>PTI</th>\n",
       "      <th>EQW</th>\n",
       "      <th>SBI</th>\n",
       "      <th>LQE</th>\n",
       "      <th>QWG</th>\n",
       "      <th>FDJ</th>\n",
       "      <th>PJF</th>\n",
       "      <th>HQE</th>\n",
       "      <th>NXJ</th>\n",
       "      <th>TARGET CLASS</th>\n",
       "    </tr>\n",
       "  </thead>\n",
       "  <tbody>\n",
       "    <tr>\n",
       "      <th>0</th>\n",
       "      <td>0.913917</td>\n",
       "      <td>1.162073</td>\n",
       "      <td>0.567946</td>\n",
       "      <td>0.755464</td>\n",
       "      <td>0.780862</td>\n",
       "      <td>0.352608</td>\n",
       "      <td>0.759697</td>\n",
       "      <td>0.643798</td>\n",
       "      <td>0.879422</td>\n",
       "      <td>1.231409</td>\n",
       "      <td>1</td>\n",
       "    </tr>\n",
       "    <tr>\n",
       "      <th>1</th>\n",
       "      <td>0.635632</td>\n",
       "      <td>1.003722</td>\n",
       "      <td>0.535342</td>\n",
       "      <td>0.825645</td>\n",
       "      <td>0.924109</td>\n",
       "      <td>0.648450</td>\n",
       "      <td>0.675334</td>\n",
       "      <td>1.013546</td>\n",
       "      <td>0.621552</td>\n",
       "      <td>1.492702</td>\n",
       "      <td>0</td>\n",
       "    </tr>\n",
       "    <tr>\n",
       "      <th>2</th>\n",
       "      <td>0.721360</td>\n",
       "      <td>1.201493</td>\n",
       "      <td>0.921990</td>\n",
       "      <td>0.855595</td>\n",
       "      <td>1.526629</td>\n",
       "      <td>0.720781</td>\n",
       "      <td>1.626351</td>\n",
       "      <td>1.154483</td>\n",
       "      <td>0.957877</td>\n",
       "      <td>1.285597</td>\n",
       "      <td>0</td>\n",
       "    </tr>\n",
       "    <tr>\n",
       "      <th>3</th>\n",
       "      <td>1.234204</td>\n",
       "      <td>1.386726</td>\n",
       "      <td>0.653046</td>\n",
       "      <td>0.825624</td>\n",
       "      <td>1.142504</td>\n",
       "      <td>0.875128</td>\n",
       "      <td>1.409708</td>\n",
       "      <td>1.380003</td>\n",
       "      <td>1.522692</td>\n",
       "      <td>1.153093</td>\n",
       "      <td>1</td>\n",
       "    </tr>\n",
       "    <tr>\n",
       "      <th>4</th>\n",
       "      <td>1.279491</td>\n",
       "      <td>0.949750</td>\n",
       "      <td>0.627280</td>\n",
       "      <td>0.668976</td>\n",
       "      <td>1.232537</td>\n",
       "      <td>0.703727</td>\n",
       "      <td>1.115596</td>\n",
       "      <td>0.646691</td>\n",
       "      <td>1.463812</td>\n",
       "      <td>1.419167</td>\n",
       "      <td>1</td>\n",
       "    </tr>\n",
       "  </tbody>\n",
       "</table>\n",
       "</div>"
      ],
      "text/plain": [
       "        WTT       PTI       EQW       SBI       LQE       QWG       FDJ  \\\n",
       "0  0.913917  1.162073  0.567946  0.755464  0.780862  0.352608  0.759697   \n",
       "1  0.635632  1.003722  0.535342  0.825645  0.924109  0.648450  0.675334   \n",
       "2  0.721360  1.201493  0.921990  0.855595  1.526629  0.720781  1.626351   \n",
       "3  1.234204  1.386726  0.653046  0.825624  1.142504  0.875128  1.409708   \n",
       "4  1.279491  0.949750  0.627280  0.668976  1.232537  0.703727  1.115596   \n",
       "\n",
       "        PJF       HQE       NXJ  TARGET CLASS  \n",
       "0  0.643798  0.879422  1.231409             1  \n",
       "1  1.013546  0.621552  1.492702             0  \n",
       "2  1.154483  0.957877  1.285597             0  \n",
       "3  1.380003  1.522692  1.153093             1  \n",
       "4  0.646691  1.463812  1.419167             1  "
      ]
     },
     "execution_count": 25,
     "metadata": {},
     "output_type": "execute_result"
    }
   ],
   "source": [
    "df.head()"
   ]
  },
  {
   "cell_type": "code",
   "execution_count": 26,
   "metadata": {},
   "outputs": [],
   "source": [
    "# we apply standard scaler so that all the values in \n",
    "#columns come to same measurable quantity like ( cm, m , km )\n",
    "# all gets converted to same unit"
   ]
  },
  {
   "cell_type": "code",
   "execution_count": 27,
   "metadata": {},
   "outputs": [],
   "source": [
    "from sklearn.preprocessing import StandardScaler"
   ]
  },
  {
   "cell_type": "code",
   "execution_count": 28,
   "metadata": {},
   "outputs": [],
   "source": [
    "scaler=StandardScaler()"
   ]
  },
  {
   "cell_type": "code",
   "execution_count": 29,
   "metadata": {},
   "outputs": [
    {
     "data": {
      "text/plain": [
       "StandardScaler(copy=True, with_mean=True, with_std=True)"
      ]
     },
     "execution_count": 29,
     "metadata": {},
     "output_type": "execute_result"
    }
   ],
   "source": [
    "scaler.fit(df.drop('TARGET CLASS',axis=1))"
   ]
  },
  {
   "cell_type": "code",
   "execution_count": 23,
   "metadata": {},
   "outputs": [],
   "source": [
    "scaled_features = scaler.transform(df.drop('TARGET CLASS',axis=1))"
   ]
  },
  {
   "cell_type": "code",
   "execution_count": 24,
   "metadata": {},
   "outputs": [
    {
     "data": {
      "text/plain": [
       "array([[-0.12354188,  0.18590747, -0.91343069, ..., -1.48236813,\n",
       "        -0.9497194 , -0.64331425],\n",
       "       [-1.08483602, -0.43034845, -1.02531333, ..., -0.20224031,\n",
       "        -1.82805088,  0.63675862],\n",
       "       [-0.78870217,  0.33931821,  0.30151137, ...,  0.28570652,\n",
       "        -0.68249379, -0.37784986],\n",
       "       ...,\n",
       "       [ 0.64177714, -0.51308341, -0.17920486, ..., -2.36249443,\n",
       "        -0.81426092,  0.11159651],\n",
       "       [ 0.46707241, -0.98278576, -1.46519359, ..., -0.03677699,\n",
       "         0.40602453, -0.85567   ],\n",
       "       [-0.38765353, -0.59589427, -1.4313981 , ..., -0.56778932,\n",
       "         0.3369971 ,  0.01034996]])"
      ]
     },
     "execution_count": 24,
     "metadata": {},
     "output_type": "execute_result"
    }
   ],
   "source": [
    "scaled_features"
   ]
  },
  {
   "cell_type": "code",
   "execution_count": 30,
   "metadata": {},
   "outputs": [
    {
     "data": {
      "text/html": [
       "<div>\n",
       "<style scoped>\n",
       "    .dataframe tbody tr th:only-of-type {\n",
       "        vertical-align: middle;\n",
       "    }\n",
       "\n",
       "    .dataframe tbody tr th {\n",
       "        vertical-align: top;\n",
       "    }\n",
       "\n",
       "    .dataframe thead th {\n",
       "        text-align: right;\n",
       "    }\n",
       "</style>\n",
       "<table border=\"1\" class=\"dataframe\">\n",
       "  <thead>\n",
       "    <tr style=\"text-align: right;\">\n",
       "      <th></th>\n",
       "      <th>WTT</th>\n",
       "      <th>PTI</th>\n",
       "      <th>EQW</th>\n",
       "      <th>SBI</th>\n",
       "      <th>LQE</th>\n",
       "      <th>QWG</th>\n",
       "      <th>FDJ</th>\n",
       "      <th>PJF</th>\n",
       "      <th>HQE</th>\n",
       "      <th>NXJ</th>\n",
       "    </tr>\n",
       "  </thead>\n",
       "  <tbody>\n",
       "    <tr>\n",
       "      <th>0</th>\n",
       "      <td>-0.123542</td>\n",
       "      <td>0.185907</td>\n",
       "      <td>-0.913431</td>\n",
       "      <td>0.319629</td>\n",
       "      <td>-1.033637</td>\n",
       "      <td>-2.308375</td>\n",
       "      <td>-0.798951</td>\n",
       "      <td>-1.482368</td>\n",
       "      <td>-0.949719</td>\n",
       "      <td>-0.643314</td>\n",
       "    </tr>\n",
       "    <tr>\n",
       "      <th>1</th>\n",
       "      <td>-1.084836</td>\n",
       "      <td>-0.430348</td>\n",
       "      <td>-1.025313</td>\n",
       "      <td>0.625388</td>\n",
       "      <td>-0.444847</td>\n",
       "      <td>-1.152706</td>\n",
       "      <td>-1.129797</td>\n",
       "      <td>-0.202240</td>\n",
       "      <td>-1.828051</td>\n",
       "      <td>0.636759</td>\n",
       "    </tr>\n",
       "    <tr>\n",
       "      <th>2</th>\n",
       "      <td>-0.788702</td>\n",
       "      <td>0.339318</td>\n",
       "      <td>0.301511</td>\n",
       "      <td>0.755873</td>\n",
       "      <td>2.031693</td>\n",
       "      <td>-0.870156</td>\n",
       "      <td>2.599818</td>\n",
       "      <td>0.285707</td>\n",
       "      <td>-0.682494</td>\n",
       "      <td>-0.377850</td>\n",
       "    </tr>\n",
       "    <tr>\n",
       "      <th>3</th>\n",
       "      <td>0.982841</td>\n",
       "      <td>1.060193</td>\n",
       "      <td>-0.621399</td>\n",
       "      <td>0.625299</td>\n",
       "      <td>0.452820</td>\n",
       "      <td>-0.267220</td>\n",
       "      <td>1.750208</td>\n",
       "      <td>1.066491</td>\n",
       "      <td>1.241325</td>\n",
       "      <td>-1.026987</td>\n",
       "    </tr>\n",
       "    <tr>\n",
       "      <th>4</th>\n",
       "      <td>1.139275</td>\n",
       "      <td>-0.640392</td>\n",
       "      <td>-0.709819</td>\n",
       "      <td>-0.057175</td>\n",
       "      <td>0.822886</td>\n",
       "      <td>-0.936773</td>\n",
       "      <td>0.596782</td>\n",
       "      <td>-1.472352</td>\n",
       "      <td>1.040772</td>\n",
       "      <td>0.276510</td>\n",
       "    </tr>\n",
       "  </tbody>\n",
       "</table>\n",
       "</div>"
      ],
      "text/plain": [
       "        WTT       PTI       EQW       SBI       LQE       QWG       FDJ  \\\n",
       "0 -0.123542  0.185907 -0.913431  0.319629 -1.033637 -2.308375 -0.798951   \n",
       "1 -1.084836 -0.430348 -1.025313  0.625388 -0.444847 -1.152706 -1.129797   \n",
       "2 -0.788702  0.339318  0.301511  0.755873  2.031693 -0.870156  2.599818   \n",
       "3  0.982841  1.060193 -0.621399  0.625299  0.452820 -0.267220  1.750208   \n",
       "4  1.139275 -0.640392 -0.709819 -0.057175  0.822886 -0.936773  0.596782   \n",
       "\n",
       "        PJF       HQE       NXJ  \n",
       "0 -1.482368 -0.949719 -0.643314  \n",
       "1 -0.202240 -1.828051  0.636759  \n",
       "2  0.285707 -0.682494 -0.377850  \n",
       "3  1.066491  1.241325 -1.026987  \n",
       "4 -1.472352  1.040772  0.276510  "
      ]
     },
     "execution_count": 30,
     "metadata": {},
     "output_type": "execute_result"
    }
   ],
   "source": [
    "df1=pd.DataFrame(scaled_features, columns=df.columns[:-1])\n",
    "df1.head()"
   ]
  },
  {
   "cell_type": "code",
   "execution_count": 31,
   "metadata": {},
   "outputs": [
    {
     "data": {
      "text/plain": [
       "0    1\n",
       "1    0\n",
       "2    0\n",
       "3    1\n",
       "4    1\n",
       "Name: TARGET CLASS, dtype: int64"
      ]
     },
     "execution_count": 31,
     "metadata": {},
     "output_type": "execute_result"
    }
   ],
   "source": [
    "y=df['TARGET CLASS']\n",
    "y.head()"
   ]
  },
  {
   "cell_type": "code",
   "execution_count": 32,
   "metadata": {},
   "outputs": [],
   "source": [
    "from sklearn.model_selection import train_test_split"
   ]
  },
  {
   "cell_type": "code",
   "execution_count": 43,
   "metadata": {},
   "outputs": [],
   "source": [
    "X_train,X_test,y_train,y_test=train_test_split(scaled_features,y,test_size=0.3)"
   ]
  },
  {
   "cell_type": "code",
   "execution_count": 44,
   "metadata": {},
   "outputs": [],
   "source": [
    "from sklearn.neighbors import KNeighborsClassifier"
   ]
  },
  {
   "cell_type": "code",
   "execution_count": 45,
   "metadata": {},
   "outputs": [
    {
     "data": {
      "text/plain": [
       "KNeighborsClassifier(algorithm='auto', leaf_size=30, metric='minkowski',\n",
       "           metric_params=None, n_jobs=1, n_neighbors=1, p=2,\n",
       "           weights='uniform')"
      ]
     },
     "execution_count": 45,
     "metadata": {},
     "output_type": "execute_result"
    }
   ],
   "source": [
    "knn=KNeighborsClassifier(n_neighbors=1)\n",
    "knn.fit(X_train,y_train)"
   ]
  },
  {
   "cell_type": "code",
   "execution_count": 46,
   "metadata": {},
   "outputs": [
    {
     "data": {
      "text/plain": [
       "array([1, 1, 1, 0, 1, 1, 0, 1, 1, 0, 0, 1, 1, 0, 0, 0, 1, 1, 0, 1, 0, 0,\n",
       "       1, 0, 0, 0, 1, 1, 1, 0, 1, 0, 0, 1, 1, 1, 0, 1, 1, 0, 1, 1, 0, 0,\n",
       "       0, 0, 0, 1, 0, 0, 0, 1, 0, 1, 1, 1, 1, 1, 1, 0, 1, 1, 1, 0, 0, 0,\n",
       "       0, 0, 0, 1, 0, 0, 0, 0, 1, 1, 1, 0, 1, 1, 0, 0, 0, 1, 0, 0, 1, 1,\n",
       "       1, 1, 0, 0, 1, 1, 0, 0, 1, 0, 0, 1, 0, 0, 0, 1, 0, 0, 0, 1, 1, 0,\n",
       "       0, 0, 1, 0, 1, 1, 0, 1, 0, 0, 1, 0, 1, 1, 0, 0, 1, 1, 0, 1, 1, 0,\n",
       "       0, 1, 0, 0, 1, 0, 0, 0, 0, 0, 1, 0, 0, 1, 1, 1, 0, 0, 0, 1, 1, 1,\n",
       "       1, 0, 0, 0, 1, 0, 0, 1, 1, 0, 0, 1, 0, 1, 1, 1, 1, 1, 1, 0, 0, 1,\n",
       "       1, 0, 1, 1, 0, 1, 1, 0, 0, 0, 1, 0, 0, 0, 0, 0, 1, 0, 0, 0, 1, 1,\n",
       "       1, 1, 1, 1, 1, 1, 0, 1, 1, 0, 0, 1, 0, 1, 0, 1, 0, 0, 0, 1, 1, 0,\n",
       "       0, 0, 0, 0, 1, 0, 0, 1, 1, 1, 0, 0, 1, 0, 1, 1, 1, 1, 1, 1, 0, 0,\n",
       "       1, 1, 1, 0, 0, 0, 1, 0, 1, 1, 0, 0, 1, 0, 0, 0, 1, 0, 0, 0, 0, 0,\n",
       "       0, 1, 0, 1, 0, 1, 1, 0, 1, 0, 1, 1, 1, 0, 1, 1, 1, 1, 1, 1, 1, 0,\n",
       "       0, 1, 1, 0, 1, 1, 0, 1, 0, 1, 0, 0, 0, 1], dtype=int64)"
      ]
     },
     "execution_count": 46,
     "metadata": {},
     "output_type": "execute_result"
    }
   ],
   "source": [
    "ypred=knn.predict(X_test)\n",
    "ypred"
   ]
  },
  {
   "cell_type": "code",
   "execution_count": 47,
   "metadata": {},
   "outputs": [
    {
     "data": {
      "text/plain": [
       "391    1\n",
       "844    1\n",
       "363    1\n",
       "597    0\n",
       "934    1\n",
       "595    1\n",
       "124    0\n",
       "869    0\n",
       "531    1\n",
       "311    0\n",
       "630    0\n",
       "193    1\n",
       "677    1\n",
       "476    0\n",
       "217    0\n",
       "909    0\n",
       "394    1\n",
       "465    1\n",
       "734    0\n",
       "15     1\n",
       "523    1\n",
       "199    0\n",
       "294    1\n",
       "132    0\n",
       "622    1\n",
       "912    0\n",
       "188    1\n",
       "87     1\n",
       "513    1\n",
       "493    0\n",
       "      ..\n",
       "699    1\n",
       "402    0\n",
       "923    1\n",
       "876    0\n",
       "650    1\n",
       "761    1\n",
       "785    1\n",
       "986    0\n",
       "251    1\n",
       "234    1\n",
       "688    1\n",
       "592    0\n",
       "619    1\n",
       "879    1\n",
       "745    1\n",
       "1      0\n",
       "139    0\n",
       "852    1\n",
       "22     0\n",
       "484    0\n",
       "963    1\n",
       "183    1\n",
       "268    0\n",
       "584    1\n",
       "509    0\n",
       "71     0\n",
       "223    1\n",
       "245    0\n",
       "172    0\n",
       "325    1\n",
       "Name: TARGET CLASS, Length: 300, dtype: int64"
      ]
     },
     "execution_count": 47,
     "metadata": {},
     "output_type": "execute_result"
    }
   ],
   "source": [
    "y_test"
   ]
  },
  {
   "cell_type": "code",
   "execution_count": 48,
   "metadata": {},
   "outputs": [
    {
     "data": {
      "text/plain": [
       "0.92"
      ]
     },
     "execution_count": 48,
     "metadata": {},
     "output_type": "execute_result"
    }
   ],
   "source": [
    "np.mean(ypred==y_test)"
   ]
  },
  {
   "cell_type": "code",
   "execution_count": 49,
   "metadata": {},
   "outputs": [
    {
     "data": {
      "text/plain": [
       "0.08"
      ]
     },
     "execution_count": 49,
     "metadata": {},
     "output_type": "execute_result"
    }
   ],
   "source": [
    "np.mean(ypred!=y_test)"
   ]
  },
  {
   "cell_type": "code",
   "execution_count": 50,
   "metadata": {},
   "outputs": [],
   "source": [
    "# no we will go for elbow method to find the value of k by plotting a graph between error rate and range, the stable portion of plotting will determine the k value"
   ]
  },
  {
   "cell_type": "code",
   "execution_count": 53,
   "metadata": {},
   "outputs": [
    {
     "name": "stdout",
     "output_type": "stream",
     "text": [
      "[0.08]\n",
      "[0.08, 0.07666666666666666]\n",
      "[0.08, 0.07666666666666666, 0.07666666666666666]\n",
      "[0.08, 0.07666666666666666, 0.07666666666666666, 0.07333333333333333]\n",
      "[0.08, 0.07666666666666666, 0.07666666666666666, 0.07333333333333333, 0.07]\n",
      "[0.08, 0.07666666666666666, 0.07666666666666666, 0.07333333333333333, 0.07, 0.07]\n",
      "[0.08, 0.07666666666666666, 0.07666666666666666, 0.07333333333333333, 0.07, 0.07, 0.06666666666666667]\n",
      "[0.08, 0.07666666666666666, 0.07666666666666666, 0.07333333333333333, 0.07, 0.07, 0.06666666666666667, 0.06666666666666667]\n",
      "[0.08, 0.07666666666666666, 0.07666666666666666, 0.07333333333333333, 0.07, 0.07, 0.06666666666666667, 0.06666666666666667, 0.06333333333333334]\n",
      "[0.08, 0.07666666666666666, 0.07666666666666666, 0.07333333333333333, 0.07, 0.07, 0.06666666666666667, 0.06666666666666667, 0.06333333333333334, 0.056666666666666664]\n",
      "[0.08, 0.07666666666666666, 0.07666666666666666, 0.07333333333333333, 0.07, 0.07, 0.06666666666666667, 0.06666666666666667, 0.06333333333333334, 0.056666666666666664, 0.056666666666666664]\n",
      "[0.08, 0.07666666666666666, 0.07666666666666666, 0.07333333333333333, 0.07, 0.07, 0.06666666666666667, 0.06666666666666667, 0.06333333333333334, 0.056666666666666664, 0.056666666666666664, 0.05333333333333334]\n",
      "[0.08, 0.07666666666666666, 0.07666666666666666, 0.07333333333333333, 0.07, 0.07, 0.06666666666666667, 0.06666666666666667, 0.06333333333333334, 0.056666666666666664, 0.056666666666666664, 0.05333333333333334, 0.05]\n",
      "[0.08, 0.07666666666666666, 0.07666666666666666, 0.07333333333333333, 0.07, 0.07, 0.06666666666666667, 0.06666666666666667, 0.06333333333333334, 0.056666666666666664, 0.056666666666666664, 0.05333333333333334, 0.05, 0.05333333333333334]\n",
      "[0.08, 0.07666666666666666, 0.07666666666666666, 0.07333333333333333, 0.07, 0.07, 0.06666666666666667, 0.06666666666666667, 0.06333333333333334, 0.056666666666666664, 0.056666666666666664, 0.05333333333333334, 0.05, 0.05333333333333334, 0.05333333333333334]\n",
      "[0.08, 0.07666666666666666, 0.07666666666666666, 0.07333333333333333, 0.07, 0.07, 0.06666666666666667, 0.06666666666666667, 0.06333333333333334, 0.056666666666666664, 0.056666666666666664, 0.05333333333333334, 0.05, 0.05333333333333334, 0.05333333333333334, 0.05]\n",
      "[0.08, 0.07666666666666666, 0.07666666666666666, 0.07333333333333333, 0.07, 0.07, 0.06666666666666667, 0.06666666666666667, 0.06333333333333334, 0.056666666666666664, 0.056666666666666664, 0.05333333333333334, 0.05, 0.05333333333333334, 0.05333333333333334, 0.05, 0.05]\n",
      "[0.08, 0.07666666666666666, 0.07666666666666666, 0.07333333333333333, 0.07, 0.07, 0.06666666666666667, 0.06666666666666667, 0.06333333333333334, 0.056666666666666664, 0.056666666666666664, 0.05333333333333334, 0.05, 0.05333333333333334, 0.05333333333333334, 0.05, 0.05, 0.05]\n",
      "[0.08, 0.07666666666666666, 0.07666666666666666, 0.07333333333333333, 0.07, 0.07, 0.06666666666666667, 0.06666666666666667, 0.06333333333333334, 0.056666666666666664, 0.056666666666666664, 0.05333333333333334, 0.05, 0.05333333333333334, 0.05333333333333334, 0.05, 0.05, 0.05, 0.05333333333333334]\n",
      "[0.08, 0.07666666666666666, 0.07666666666666666, 0.07333333333333333, 0.07, 0.07, 0.06666666666666667, 0.06666666666666667, 0.06333333333333334, 0.056666666666666664, 0.056666666666666664, 0.05333333333333334, 0.05, 0.05333333333333334, 0.05333333333333334, 0.05, 0.05, 0.05, 0.05333333333333334, 0.05]\n",
      "[0.08, 0.07666666666666666, 0.07666666666666666, 0.07333333333333333, 0.07, 0.07, 0.06666666666666667, 0.06666666666666667, 0.06333333333333334, 0.056666666666666664, 0.056666666666666664, 0.05333333333333334, 0.05, 0.05333333333333334, 0.05333333333333334, 0.05, 0.05, 0.05, 0.05333333333333334, 0.05, 0.05333333333333334]\n",
      "[0.08, 0.07666666666666666, 0.07666666666666666, 0.07333333333333333, 0.07, 0.07, 0.06666666666666667, 0.06666666666666667, 0.06333333333333334, 0.056666666666666664, 0.056666666666666664, 0.05333333333333334, 0.05, 0.05333333333333334, 0.05333333333333334, 0.05, 0.05, 0.05, 0.05333333333333334, 0.05, 0.05333333333333334, 0.056666666666666664]\n",
      "[0.08, 0.07666666666666666, 0.07666666666666666, 0.07333333333333333, 0.07, 0.07, 0.06666666666666667, 0.06666666666666667, 0.06333333333333334, 0.056666666666666664, 0.056666666666666664, 0.05333333333333334, 0.05, 0.05333333333333334, 0.05333333333333334, 0.05, 0.05, 0.05, 0.05333333333333334, 0.05, 0.05333333333333334, 0.056666666666666664, 0.05333333333333334]\n",
      "[0.08, 0.07666666666666666, 0.07666666666666666, 0.07333333333333333, 0.07, 0.07, 0.06666666666666667, 0.06666666666666667, 0.06333333333333334, 0.056666666666666664, 0.056666666666666664, 0.05333333333333334, 0.05, 0.05333333333333334, 0.05333333333333334, 0.05, 0.05, 0.05, 0.05333333333333334, 0.05, 0.05333333333333334, 0.056666666666666664, 0.05333333333333334, 0.056666666666666664]\n",
      "[0.08, 0.07666666666666666, 0.07666666666666666, 0.07333333333333333, 0.07, 0.07, 0.06666666666666667, 0.06666666666666667, 0.06333333333333334, 0.056666666666666664, 0.056666666666666664, 0.05333333333333334, 0.05, 0.05333333333333334, 0.05333333333333334, 0.05, 0.05, 0.05, 0.05333333333333334, 0.05, 0.05333333333333334, 0.056666666666666664, 0.05333333333333334, 0.056666666666666664, 0.05333333333333334]\n",
      "[0.08, 0.07666666666666666, 0.07666666666666666, 0.07333333333333333, 0.07, 0.07, 0.06666666666666667, 0.06666666666666667, 0.06333333333333334, 0.056666666666666664, 0.056666666666666664, 0.05333333333333334, 0.05, 0.05333333333333334, 0.05333333333333334, 0.05, 0.05, 0.05, 0.05333333333333334, 0.05, 0.05333333333333334, 0.056666666666666664, 0.05333333333333334, 0.056666666666666664, 0.05333333333333334, 0.05333333333333334]\n",
      "[0.08, 0.07666666666666666, 0.07666666666666666, 0.07333333333333333, 0.07, 0.07, 0.06666666666666667, 0.06666666666666667, 0.06333333333333334, 0.056666666666666664, 0.056666666666666664, 0.05333333333333334, 0.05, 0.05333333333333334, 0.05333333333333334, 0.05, 0.05, 0.05, 0.05333333333333334, 0.05, 0.05333333333333334, 0.056666666666666664, 0.05333333333333334, 0.056666666666666664, 0.05333333333333334, 0.05333333333333334, 0.05]\n",
      "[0.08, 0.07666666666666666, 0.07666666666666666, 0.07333333333333333, 0.07, 0.07, 0.06666666666666667, 0.06666666666666667, 0.06333333333333334, 0.056666666666666664, 0.056666666666666664, 0.05333333333333334, 0.05, 0.05333333333333334, 0.05333333333333334, 0.05, 0.05, 0.05, 0.05333333333333334, 0.05, 0.05333333333333334, 0.056666666666666664, 0.05333333333333334, 0.056666666666666664, 0.05333333333333334, 0.05333333333333334, 0.05, 0.05]\n",
      "[0.08, 0.07666666666666666, 0.07666666666666666, 0.07333333333333333, 0.07, 0.07, 0.06666666666666667, 0.06666666666666667, 0.06333333333333334, 0.056666666666666664, 0.056666666666666664, 0.05333333333333334, 0.05, 0.05333333333333334, 0.05333333333333334, 0.05, 0.05, 0.05, 0.05333333333333334, 0.05, 0.05333333333333334, 0.056666666666666664, 0.05333333333333334, 0.056666666666666664, 0.05333333333333334, 0.05333333333333334, 0.05, 0.05, 0.05]\n",
      "[0.08, 0.07666666666666666, 0.07666666666666666, 0.07333333333333333, 0.07, 0.07, 0.06666666666666667, 0.06666666666666667, 0.06333333333333334, 0.056666666666666664, 0.056666666666666664, 0.05333333333333334, 0.05, 0.05333333333333334, 0.05333333333333334, 0.05, 0.05, 0.05, 0.05333333333333334, 0.05, 0.05333333333333334, 0.056666666666666664, 0.05333333333333334, 0.056666666666666664, 0.05333333333333334, 0.05333333333333334, 0.05, 0.05, 0.05, 0.05]\n",
      "[0.08, 0.07666666666666666, 0.07666666666666666, 0.07333333333333333, 0.07, 0.07, 0.06666666666666667, 0.06666666666666667, 0.06333333333333334, 0.056666666666666664, 0.056666666666666664, 0.05333333333333334, 0.05, 0.05333333333333334, 0.05333333333333334, 0.05, 0.05, 0.05, 0.05333333333333334, 0.05, 0.05333333333333334, 0.056666666666666664, 0.05333333333333334, 0.056666666666666664, 0.05333333333333334, 0.05333333333333334, 0.05, 0.05, 0.05, 0.05, 0.05]\n",
      "[0.08, 0.07666666666666666, 0.07666666666666666, 0.07333333333333333, 0.07, 0.07, 0.06666666666666667, 0.06666666666666667, 0.06333333333333334, 0.056666666666666664, 0.056666666666666664, 0.05333333333333334, 0.05, 0.05333333333333334, 0.05333333333333334, 0.05, 0.05, 0.05, 0.05333333333333334, 0.05, 0.05333333333333334, 0.056666666666666664, 0.05333333333333334, 0.056666666666666664, 0.05333333333333334, 0.05333333333333334, 0.05, 0.05, 0.05, 0.05, 0.05, 0.05]\n",
      "[0.08, 0.07666666666666666, 0.07666666666666666, 0.07333333333333333, 0.07, 0.07, 0.06666666666666667, 0.06666666666666667, 0.06333333333333334, 0.056666666666666664, 0.056666666666666664, 0.05333333333333334, 0.05, 0.05333333333333334, 0.05333333333333334, 0.05, 0.05, 0.05, 0.05333333333333334, 0.05, 0.05333333333333334, 0.056666666666666664, 0.05333333333333334, 0.056666666666666664, 0.05333333333333334, 0.05333333333333334, 0.05, 0.05, 0.05, 0.05, 0.05, 0.05, 0.05]\n",
      "[0.08, 0.07666666666666666, 0.07666666666666666, 0.07333333333333333, 0.07, 0.07, 0.06666666666666667, 0.06666666666666667, 0.06333333333333334, 0.056666666666666664, 0.056666666666666664, 0.05333333333333334, 0.05, 0.05333333333333334, 0.05333333333333334, 0.05, 0.05, 0.05, 0.05333333333333334, 0.05, 0.05333333333333334, 0.056666666666666664, 0.05333333333333334, 0.056666666666666664, 0.05333333333333334, 0.05333333333333334, 0.05, 0.05, 0.05, 0.05, 0.05, 0.05, 0.05, 0.04666666666666667]\n",
      "[0.08, 0.07666666666666666, 0.07666666666666666, 0.07333333333333333, 0.07, 0.07, 0.06666666666666667, 0.06666666666666667, 0.06333333333333334, 0.056666666666666664, 0.056666666666666664, 0.05333333333333334, 0.05, 0.05333333333333334, 0.05333333333333334, 0.05, 0.05, 0.05, 0.05333333333333334, 0.05, 0.05333333333333334, 0.056666666666666664, 0.05333333333333334, 0.056666666666666664, 0.05333333333333334, 0.05333333333333334, 0.05, 0.05, 0.05, 0.05, 0.05, 0.05, 0.05, 0.04666666666666667, 0.05]\n",
      "[0.08, 0.07666666666666666, 0.07666666666666666, 0.07333333333333333, 0.07, 0.07, 0.06666666666666667, 0.06666666666666667, 0.06333333333333334, 0.056666666666666664, 0.056666666666666664, 0.05333333333333334, 0.05, 0.05333333333333334, 0.05333333333333334, 0.05, 0.05, 0.05, 0.05333333333333334, 0.05, 0.05333333333333334, 0.056666666666666664, 0.05333333333333334, 0.056666666666666664, 0.05333333333333334, 0.05333333333333334, 0.05, 0.05, 0.05, 0.05, 0.05, 0.05, 0.05, 0.04666666666666667, 0.05, 0.04666666666666667]\n"
     ]
    },
    {
     "name": "stdout",
     "output_type": "stream",
     "text": [
      "[0.08, 0.07666666666666666, 0.07666666666666666, 0.07333333333333333, 0.07, 0.07, 0.06666666666666667, 0.06666666666666667, 0.06333333333333334, 0.056666666666666664, 0.056666666666666664, 0.05333333333333334, 0.05, 0.05333333333333334, 0.05333333333333334, 0.05, 0.05, 0.05, 0.05333333333333334, 0.05, 0.05333333333333334, 0.056666666666666664, 0.05333333333333334, 0.056666666666666664, 0.05333333333333334, 0.05333333333333334, 0.05, 0.05, 0.05, 0.05, 0.05, 0.05, 0.05, 0.04666666666666667, 0.05, 0.04666666666666667, 0.05]\n",
      "[0.08, 0.07666666666666666, 0.07666666666666666, 0.07333333333333333, 0.07, 0.07, 0.06666666666666667, 0.06666666666666667, 0.06333333333333334, 0.056666666666666664, 0.056666666666666664, 0.05333333333333334, 0.05, 0.05333333333333334, 0.05333333333333334, 0.05, 0.05, 0.05, 0.05333333333333334, 0.05, 0.05333333333333334, 0.056666666666666664, 0.05333333333333334, 0.056666666666666664, 0.05333333333333334, 0.05333333333333334, 0.05, 0.05, 0.05, 0.05, 0.05, 0.05, 0.05, 0.04666666666666667, 0.05, 0.04666666666666667, 0.05, 0.05]\n",
      "[0.08, 0.07666666666666666, 0.07666666666666666, 0.07333333333333333, 0.07, 0.07, 0.06666666666666667, 0.06666666666666667, 0.06333333333333334, 0.056666666666666664, 0.056666666666666664, 0.05333333333333334, 0.05, 0.05333333333333334, 0.05333333333333334, 0.05, 0.05, 0.05, 0.05333333333333334, 0.05, 0.05333333333333334, 0.056666666666666664, 0.05333333333333334, 0.056666666666666664, 0.05333333333333334, 0.05333333333333334, 0.05, 0.05, 0.05, 0.05, 0.05, 0.05, 0.05, 0.04666666666666667, 0.05, 0.04666666666666667, 0.05, 0.05, 0.05333333333333334]\n",
      "[0.08, 0.07666666666666666, 0.07666666666666666, 0.07333333333333333, 0.07, 0.07, 0.06666666666666667, 0.06666666666666667, 0.06333333333333334, 0.056666666666666664, 0.056666666666666664, 0.05333333333333334, 0.05, 0.05333333333333334, 0.05333333333333334, 0.05, 0.05, 0.05, 0.05333333333333334, 0.05, 0.05333333333333334, 0.056666666666666664, 0.05333333333333334, 0.056666666666666664, 0.05333333333333334, 0.05333333333333334, 0.05, 0.05, 0.05, 0.05, 0.05, 0.05, 0.05, 0.04666666666666667, 0.05, 0.04666666666666667, 0.05, 0.05, 0.05333333333333334, 0.05]\n",
      "[0.08, 0.07666666666666666, 0.07666666666666666, 0.07333333333333333, 0.07, 0.07, 0.06666666666666667, 0.06666666666666667, 0.06333333333333334, 0.056666666666666664, 0.056666666666666664, 0.05333333333333334, 0.05, 0.05333333333333334, 0.05333333333333334, 0.05, 0.05, 0.05, 0.05333333333333334, 0.05, 0.05333333333333334, 0.056666666666666664, 0.05333333333333334, 0.056666666666666664, 0.05333333333333334, 0.05333333333333334, 0.05, 0.05, 0.05, 0.05, 0.05, 0.05, 0.05, 0.04666666666666667, 0.05, 0.04666666666666667, 0.05, 0.05, 0.05333333333333334, 0.05, 0.05333333333333334]\n",
      "[0.08, 0.07666666666666666, 0.07666666666666666, 0.07333333333333333, 0.07, 0.07, 0.06666666666666667, 0.06666666666666667, 0.06333333333333334, 0.056666666666666664, 0.056666666666666664, 0.05333333333333334, 0.05, 0.05333333333333334, 0.05333333333333334, 0.05, 0.05, 0.05, 0.05333333333333334, 0.05, 0.05333333333333334, 0.056666666666666664, 0.05333333333333334, 0.056666666666666664, 0.05333333333333334, 0.05333333333333334, 0.05, 0.05, 0.05, 0.05, 0.05, 0.05, 0.05, 0.04666666666666667, 0.05, 0.04666666666666667, 0.05, 0.05, 0.05333333333333334, 0.05, 0.05333333333333334, 0.05333333333333334]\n",
      "[0.08, 0.07666666666666666, 0.07666666666666666, 0.07333333333333333, 0.07, 0.07, 0.06666666666666667, 0.06666666666666667, 0.06333333333333334, 0.056666666666666664, 0.056666666666666664, 0.05333333333333334, 0.05, 0.05333333333333334, 0.05333333333333334, 0.05, 0.05, 0.05, 0.05333333333333334, 0.05, 0.05333333333333334, 0.056666666666666664, 0.05333333333333334, 0.056666666666666664, 0.05333333333333334, 0.05333333333333334, 0.05, 0.05, 0.05, 0.05, 0.05, 0.05, 0.05, 0.04666666666666667, 0.05, 0.04666666666666667, 0.05, 0.05, 0.05333333333333334, 0.05, 0.05333333333333334, 0.05333333333333334, 0.05]\n",
      "[0.08, 0.07666666666666666, 0.07666666666666666, 0.07333333333333333, 0.07, 0.07, 0.06666666666666667, 0.06666666666666667, 0.06333333333333334, 0.056666666666666664, 0.056666666666666664, 0.05333333333333334, 0.05, 0.05333333333333334, 0.05333333333333334, 0.05, 0.05, 0.05, 0.05333333333333334, 0.05, 0.05333333333333334, 0.056666666666666664, 0.05333333333333334, 0.056666666666666664, 0.05333333333333334, 0.05333333333333334, 0.05, 0.05, 0.05, 0.05, 0.05, 0.05, 0.05, 0.04666666666666667, 0.05, 0.04666666666666667, 0.05, 0.05, 0.05333333333333334, 0.05, 0.05333333333333334, 0.05333333333333334, 0.05, 0.043333333333333335]\n",
      "[0.08, 0.07666666666666666, 0.07666666666666666, 0.07333333333333333, 0.07, 0.07, 0.06666666666666667, 0.06666666666666667, 0.06333333333333334, 0.056666666666666664, 0.056666666666666664, 0.05333333333333334, 0.05, 0.05333333333333334, 0.05333333333333334, 0.05, 0.05, 0.05, 0.05333333333333334, 0.05, 0.05333333333333334, 0.056666666666666664, 0.05333333333333334, 0.056666666666666664, 0.05333333333333334, 0.05333333333333334, 0.05, 0.05, 0.05, 0.05, 0.05, 0.05, 0.05, 0.04666666666666667, 0.05, 0.04666666666666667, 0.05, 0.05, 0.05333333333333334, 0.05, 0.05333333333333334, 0.05333333333333334, 0.05, 0.043333333333333335, 0.05]\n",
      "[0.08, 0.07666666666666666, 0.07666666666666666, 0.07333333333333333, 0.07, 0.07, 0.06666666666666667, 0.06666666666666667, 0.06333333333333334, 0.056666666666666664, 0.056666666666666664, 0.05333333333333334, 0.05, 0.05333333333333334, 0.05333333333333334, 0.05, 0.05, 0.05, 0.05333333333333334, 0.05, 0.05333333333333334, 0.056666666666666664, 0.05333333333333334, 0.056666666666666664, 0.05333333333333334, 0.05333333333333334, 0.05, 0.05, 0.05, 0.05, 0.05, 0.05, 0.05, 0.04666666666666667, 0.05, 0.04666666666666667, 0.05, 0.05, 0.05333333333333334, 0.05, 0.05333333333333334, 0.05333333333333334, 0.05, 0.043333333333333335, 0.05, 0.04666666666666667]\n",
      "[0.08, 0.07666666666666666, 0.07666666666666666, 0.07333333333333333, 0.07, 0.07, 0.06666666666666667, 0.06666666666666667, 0.06333333333333334, 0.056666666666666664, 0.056666666666666664, 0.05333333333333334, 0.05, 0.05333333333333334, 0.05333333333333334, 0.05, 0.05, 0.05, 0.05333333333333334, 0.05, 0.05333333333333334, 0.056666666666666664, 0.05333333333333334, 0.056666666666666664, 0.05333333333333334, 0.05333333333333334, 0.05, 0.05, 0.05, 0.05, 0.05, 0.05, 0.05, 0.04666666666666667, 0.05, 0.04666666666666667, 0.05, 0.05, 0.05333333333333334, 0.05, 0.05333333333333334, 0.05333333333333334, 0.05, 0.043333333333333335, 0.05, 0.04666666666666667, 0.05]\n",
      "[0.08, 0.07666666666666666, 0.07666666666666666, 0.07333333333333333, 0.07, 0.07, 0.06666666666666667, 0.06666666666666667, 0.06333333333333334, 0.056666666666666664, 0.056666666666666664, 0.05333333333333334, 0.05, 0.05333333333333334, 0.05333333333333334, 0.05, 0.05, 0.05, 0.05333333333333334, 0.05, 0.05333333333333334, 0.056666666666666664, 0.05333333333333334, 0.056666666666666664, 0.05333333333333334, 0.05333333333333334, 0.05, 0.05, 0.05, 0.05, 0.05, 0.05, 0.05, 0.04666666666666667, 0.05, 0.04666666666666667, 0.05, 0.05, 0.05333333333333334, 0.05, 0.05333333333333334, 0.05333333333333334, 0.05, 0.043333333333333335, 0.05, 0.04666666666666667, 0.05, 0.05]\n",
      "[0.08, 0.07666666666666666, 0.07666666666666666, 0.07333333333333333, 0.07, 0.07, 0.06666666666666667, 0.06666666666666667, 0.06333333333333334, 0.056666666666666664, 0.056666666666666664, 0.05333333333333334, 0.05, 0.05333333333333334, 0.05333333333333334, 0.05, 0.05, 0.05, 0.05333333333333334, 0.05, 0.05333333333333334, 0.056666666666666664, 0.05333333333333334, 0.056666666666666664, 0.05333333333333334, 0.05333333333333334, 0.05, 0.05, 0.05, 0.05, 0.05, 0.05, 0.05, 0.04666666666666667, 0.05, 0.04666666666666667, 0.05, 0.05, 0.05333333333333334, 0.05, 0.05333333333333334, 0.05333333333333334, 0.05, 0.043333333333333335, 0.05, 0.04666666666666667, 0.05, 0.05, 0.05]\n",
      "[0.08, 0.07666666666666666, 0.07666666666666666, 0.07333333333333333, 0.07, 0.07, 0.06666666666666667, 0.06666666666666667, 0.06333333333333334, 0.056666666666666664, 0.056666666666666664, 0.05333333333333334, 0.05, 0.05333333333333334, 0.05333333333333334, 0.05, 0.05, 0.05, 0.05333333333333334, 0.05, 0.05333333333333334, 0.056666666666666664, 0.05333333333333334, 0.056666666666666664, 0.05333333333333334, 0.05333333333333334, 0.05, 0.05, 0.05, 0.05, 0.05, 0.05, 0.05, 0.04666666666666667, 0.05, 0.04666666666666667, 0.05, 0.05, 0.05333333333333334, 0.05, 0.05333333333333334, 0.05333333333333334, 0.05, 0.043333333333333335, 0.05, 0.04666666666666667, 0.05, 0.05, 0.05, 0.04666666666666667]\n",
      "[0.08, 0.07666666666666666, 0.07666666666666666, 0.07333333333333333, 0.07, 0.07, 0.06666666666666667, 0.06666666666666667, 0.06333333333333334, 0.056666666666666664, 0.056666666666666664, 0.05333333333333334, 0.05, 0.05333333333333334, 0.05333333333333334, 0.05, 0.05, 0.05, 0.05333333333333334, 0.05, 0.05333333333333334, 0.056666666666666664, 0.05333333333333334, 0.056666666666666664, 0.05333333333333334, 0.05333333333333334, 0.05, 0.05, 0.05, 0.05, 0.05, 0.05, 0.05, 0.04666666666666667, 0.05, 0.04666666666666667, 0.05, 0.05, 0.05333333333333334, 0.05, 0.05333333333333334, 0.05333333333333334, 0.05, 0.043333333333333335, 0.05, 0.04666666666666667, 0.05, 0.05, 0.05, 0.04666666666666667, 0.05333333333333334]\n",
      "[0.08, 0.07666666666666666, 0.07666666666666666, 0.07333333333333333, 0.07, 0.07, 0.06666666666666667, 0.06666666666666667, 0.06333333333333334, 0.056666666666666664, 0.056666666666666664, 0.05333333333333334, 0.05, 0.05333333333333334, 0.05333333333333334, 0.05, 0.05, 0.05, 0.05333333333333334, 0.05, 0.05333333333333334, 0.056666666666666664, 0.05333333333333334, 0.056666666666666664, 0.05333333333333334, 0.05333333333333334, 0.05, 0.05, 0.05, 0.05, 0.05, 0.05, 0.05, 0.04666666666666667, 0.05, 0.04666666666666667, 0.05, 0.05, 0.05333333333333334, 0.05, 0.05333333333333334, 0.05333333333333334, 0.05, 0.043333333333333335, 0.05, 0.04666666666666667, 0.05, 0.05, 0.05, 0.04666666666666667, 0.05333333333333334, 0.04666666666666667]\n",
      "[0.08, 0.07666666666666666, 0.07666666666666666, 0.07333333333333333, 0.07, 0.07, 0.06666666666666667, 0.06666666666666667, 0.06333333333333334, 0.056666666666666664, 0.056666666666666664, 0.05333333333333334, 0.05, 0.05333333333333334, 0.05333333333333334, 0.05, 0.05, 0.05, 0.05333333333333334, 0.05, 0.05333333333333334, 0.056666666666666664, 0.05333333333333334, 0.056666666666666664, 0.05333333333333334, 0.05333333333333334, 0.05, 0.05, 0.05, 0.05, 0.05, 0.05, 0.05, 0.04666666666666667, 0.05, 0.04666666666666667, 0.05, 0.05, 0.05333333333333334, 0.05, 0.05333333333333334, 0.05333333333333334, 0.05, 0.043333333333333335, 0.05, 0.04666666666666667, 0.05, 0.05, 0.05, 0.04666666666666667, 0.05333333333333334, 0.04666666666666667, 0.05]\n",
      "[0.08, 0.07666666666666666, 0.07666666666666666, 0.07333333333333333, 0.07, 0.07, 0.06666666666666667, 0.06666666666666667, 0.06333333333333334, 0.056666666666666664, 0.056666666666666664, 0.05333333333333334, 0.05, 0.05333333333333334, 0.05333333333333334, 0.05, 0.05, 0.05, 0.05333333333333334, 0.05, 0.05333333333333334, 0.056666666666666664, 0.05333333333333334, 0.056666666666666664, 0.05333333333333334, 0.05333333333333334, 0.05, 0.05, 0.05, 0.05, 0.05, 0.05, 0.05, 0.04666666666666667, 0.05, 0.04666666666666667, 0.05, 0.05, 0.05333333333333334, 0.05, 0.05333333333333334, 0.05333333333333334, 0.05, 0.043333333333333335, 0.05, 0.04666666666666667, 0.05, 0.05, 0.05, 0.04666666666666667, 0.05333333333333334, 0.04666666666666667, 0.05, 0.05]\n",
      "[0.08, 0.07666666666666666, 0.07666666666666666, 0.07333333333333333, 0.07, 0.07, 0.06666666666666667, 0.06666666666666667, 0.06333333333333334, 0.056666666666666664, 0.056666666666666664, 0.05333333333333334, 0.05, 0.05333333333333334, 0.05333333333333334, 0.05, 0.05, 0.05, 0.05333333333333334, 0.05, 0.05333333333333334, 0.056666666666666664, 0.05333333333333334, 0.056666666666666664, 0.05333333333333334, 0.05333333333333334, 0.05, 0.05, 0.05, 0.05, 0.05, 0.05, 0.05, 0.04666666666666667, 0.05, 0.04666666666666667, 0.05, 0.05, 0.05333333333333334, 0.05, 0.05333333333333334, 0.05333333333333334, 0.05, 0.043333333333333335, 0.05, 0.04666666666666667, 0.05, 0.05, 0.05, 0.04666666666666667, 0.05333333333333334, 0.04666666666666667, 0.05, 0.05, 0.05333333333333334]\n"
     ]
    },
    {
     "name": "stdout",
     "output_type": "stream",
     "text": [
      "[0.08, 0.07666666666666666, 0.07666666666666666, 0.07333333333333333, 0.07, 0.07, 0.06666666666666667, 0.06666666666666667, 0.06333333333333334, 0.056666666666666664, 0.056666666666666664, 0.05333333333333334, 0.05, 0.05333333333333334, 0.05333333333333334, 0.05, 0.05, 0.05, 0.05333333333333334, 0.05, 0.05333333333333334, 0.056666666666666664, 0.05333333333333334, 0.056666666666666664, 0.05333333333333334, 0.05333333333333334, 0.05, 0.05, 0.05, 0.05, 0.05, 0.05, 0.05, 0.04666666666666667, 0.05, 0.04666666666666667, 0.05, 0.05, 0.05333333333333334, 0.05, 0.05333333333333334, 0.05333333333333334, 0.05, 0.043333333333333335, 0.05, 0.04666666666666667, 0.05, 0.05, 0.05, 0.04666666666666667, 0.05333333333333334, 0.04666666666666667, 0.05, 0.05, 0.05333333333333334, 0.05]\n",
      "[0.08, 0.07666666666666666, 0.07666666666666666, 0.07333333333333333, 0.07, 0.07, 0.06666666666666667, 0.06666666666666667, 0.06333333333333334, 0.056666666666666664, 0.056666666666666664, 0.05333333333333334, 0.05, 0.05333333333333334, 0.05333333333333334, 0.05, 0.05, 0.05, 0.05333333333333334, 0.05, 0.05333333333333334, 0.056666666666666664, 0.05333333333333334, 0.056666666666666664, 0.05333333333333334, 0.05333333333333334, 0.05, 0.05, 0.05, 0.05, 0.05, 0.05, 0.05, 0.04666666666666667, 0.05, 0.04666666666666667, 0.05, 0.05, 0.05333333333333334, 0.05, 0.05333333333333334, 0.05333333333333334, 0.05, 0.043333333333333335, 0.05, 0.04666666666666667, 0.05, 0.05, 0.05, 0.04666666666666667, 0.05333333333333334, 0.04666666666666667, 0.05, 0.05, 0.05333333333333334, 0.05, 0.05]\n",
      "[0.08, 0.07666666666666666, 0.07666666666666666, 0.07333333333333333, 0.07, 0.07, 0.06666666666666667, 0.06666666666666667, 0.06333333333333334, 0.056666666666666664, 0.056666666666666664, 0.05333333333333334, 0.05, 0.05333333333333334, 0.05333333333333334, 0.05, 0.05, 0.05, 0.05333333333333334, 0.05, 0.05333333333333334, 0.056666666666666664, 0.05333333333333334, 0.056666666666666664, 0.05333333333333334, 0.05333333333333334, 0.05, 0.05, 0.05, 0.05, 0.05, 0.05, 0.05, 0.04666666666666667, 0.05, 0.04666666666666667, 0.05, 0.05, 0.05333333333333334, 0.05, 0.05333333333333334, 0.05333333333333334, 0.05, 0.043333333333333335, 0.05, 0.04666666666666667, 0.05, 0.05, 0.05, 0.04666666666666667, 0.05333333333333334, 0.04666666666666667, 0.05, 0.05, 0.05333333333333334, 0.05, 0.05, 0.043333333333333335]\n",
      "[0.08, 0.07666666666666666, 0.07666666666666666, 0.07333333333333333, 0.07, 0.07, 0.06666666666666667, 0.06666666666666667, 0.06333333333333334, 0.056666666666666664, 0.056666666666666664, 0.05333333333333334, 0.05, 0.05333333333333334, 0.05333333333333334, 0.05, 0.05, 0.05, 0.05333333333333334, 0.05, 0.05333333333333334, 0.056666666666666664, 0.05333333333333334, 0.056666666666666664, 0.05333333333333334, 0.05333333333333334, 0.05, 0.05, 0.05, 0.05, 0.05, 0.05, 0.05, 0.04666666666666667, 0.05, 0.04666666666666667, 0.05, 0.05, 0.05333333333333334, 0.05, 0.05333333333333334, 0.05333333333333334, 0.05, 0.043333333333333335, 0.05, 0.04666666666666667, 0.05, 0.05, 0.05, 0.04666666666666667, 0.05333333333333334, 0.04666666666666667, 0.05, 0.05, 0.05333333333333334, 0.05, 0.05, 0.043333333333333335, 0.05333333333333334]\n",
      "[0.08, 0.07666666666666666, 0.07666666666666666, 0.07333333333333333, 0.07, 0.07, 0.06666666666666667, 0.06666666666666667, 0.06333333333333334, 0.056666666666666664, 0.056666666666666664, 0.05333333333333334, 0.05, 0.05333333333333334, 0.05333333333333334, 0.05, 0.05, 0.05, 0.05333333333333334, 0.05, 0.05333333333333334, 0.056666666666666664, 0.05333333333333334, 0.056666666666666664, 0.05333333333333334, 0.05333333333333334, 0.05, 0.05, 0.05, 0.05, 0.05, 0.05, 0.05, 0.04666666666666667, 0.05, 0.04666666666666667, 0.05, 0.05, 0.05333333333333334, 0.05, 0.05333333333333334, 0.05333333333333334, 0.05, 0.043333333333333335, 0.05, 0.04666666666666667, 0.05, 0.05, 0.05, 0.04666666666666667, 0.05333333333333334, 0.04666666666666667, 0.05, 0.05, 0.05333333333333334, 0.05, 0.05, 0.043333333333333335, 0.05333333333333334, 0.05]\n",
      "[0.08, 0.07666666666666666, 0.07666666666666666, 0.07333333333333333, 0.07, 0.07, 0.06666666666666667, 0.06666666666666667, 0.06333333333333334, 0.056666666666666664, 0.056666666666666664, 0.05333333333333334, 0.05, 0.05333333333333334, 0.05333333333333334, 0.05, 0.05, 0.05, 0.05333333333333334, 0.05, 0.05333333333333334, 0.056666666666666664, 0.05333333333333334, 0.056666666666666664, 0.05333333333333334, 0.05333333333333334, 0.05, 0.05, 0.05, 0.05, 0.05, 0.05, 0.05, 0.04666666666666667, 0.05, 0.04666666666666667, 0.05, 0.05, 0.05333333333333334, 0.05, 0.05333333333333334, 0.05333333333333334, 0.05, 0.043333333333333335, 0.05, 0.04666666666666667, 0.05, 0.05, 0.05, 0.04666666666666667, 0.05333333333333334, 0.04666666666666667, 0.05, 0.05, 0.05333333333333334, 0.05, 0.05, 0.043333333333333335, 0.05333333333333334, 0.05, 0.06]\n",
      "[0.08, 0.07666666666666666, 0.07666666666666666, 0.07333333333333333, 0.07, 0.07, 0.06666666666666667, 0.06666666666666667, 0.06333333333333334, 0.056666666666666664, 0.056666666666666664, 0.05333333333333334, 0.05, 0.05333333333333334, 0.05333333333333334, 0.05, 0.05, 0.05, 0.05333333333333334, 0.05, 0.05333333333333334, 0.056666666666666664, 0.05333333333333334, 0.056666666666666664, 0.05333333333333334, 0.05333333333333334, 0.05, 0.05, 0.05, 0.05, 0.05, 0.05, 0.05, 0.04666666666666667, 0.05, 0.04666666666666667, 0.05, 0.05, 0.05333333333333334, 0.05, 0.05333333333333334, 0.05333333333333334, 0.05, 0.043333333333333335, 0.05, 0.04666666666666667, 0.05, 0.05, 0.05, 0.04666666666666667, 0.05333333333333334, 0.04666666666666667, 0.05, 0.05, 0.05333333333333334, 0.05, 0.05, 0.043333333333333335, 0.05333333333333334, 0.05, 0.06, 0.056666666666666664]\n",
      "[0.08, 0.07666666666666666, 0.07666666666666666, 0.07333333333333333, 0.07, 0.07, 0.06666666666666667, 0.06666666666666667, 0.06333333333333334, 0.056666666666666664, 0.056666666666666664, 0.05333333333333334, 0.05, 0.05333333333333334, 0.05333333333333334, 0.05, 0.05, 0.05, 0.05333333333333334, 0.05, 0.05333333333333334, 0.056666666666666664, 0.05333333333333334, 0.056666666666666664, 0.05333333333333334, 0.05333333333333334, 0.05, 0.05, 0.05, 0.05, 0.05, 0.05, 0.05, 0.04666666666666667, 0.05, 0.04666666666666667, 0.05, 0.05, 0.05333333333333334, 0.05, 0.05333333333333334, 0.05333333333333334, 0.05, 0.043333333333333335, 0.05, 0.04666666666666667, 0.05, 0.05, 0.05, 0.04666666666666667, 0.05333333333333334, 0.04666666666666667, 0.05, 0.05, 0.05333333333333334, 0.05, 0.05, 0.043333333333333335, 0.05333333333333334, 0.05, 0.06, 0.056666666666666664, 0.06]\n",
      "[0.08, 0.07666666666666666, 0.07666666666666666, 0.07333333333333333, 0.07, 0.07, 0.06666666666666667, 0.06666666666666667, 0.06333333333333334, 0.056666666666666664, 0.056666666666666664, 0.05333333333333334, 0.05, 0.05333333333333334, 0.05333333333333334, 0.05, 0.05, 0.05, 0.05333333333333334, 0.05, 0.05333333333333334, 0.056666666666666664, 0.05333333333333334, 0.056666666666666664, 0.05333333333333334, 0.05333333333333334, 0.05, 0.05, 0.05, 0.05, 0.05, 0.05, 0.05, 0.04666666666666667, 0.05, 0.04666666666666667, 0.05, 0.05, 0.05333333333333334, 0.05, 0.05333333333333334, 0.05333333333333334, 0.05, 0.043333333333333335, 0.05, 0.04666666666666667, 0.05, 0.05, 0.05, 0.04666666666666667, 0.05333333333333334, 0.04666666666666667, 0.05, 0.05, 0.05333333333333334, 0.05, 0.05, 0.043333333333333335, 0.05333333333333334, 0.05, 0.06, 0.056666666666666664, 0.06, 0.056666666666666664]\n",
      "[0.08, 0.07666666666666666, 0.07666666666666666, 0.07333333333333333, 0.07, 0.07, 0.06666666666666667, 0.06666666666666667, 0.06333333333333334, 0.056666666666666664, 0.056666666666666664, 0.05333333333333334, 0.05, 0.05333333333333334, 0.05333333333333334, 0.05, 0.05, 0.05, 0.05333333333333334, 0.05, 0.05333333333333334, 0.056666666666666664, 0.05333333333333334, 0.056666666666666664, 0.05333333333333334, 0.05333333333333334, 0.05, 0.05, 0.05, 0.05, 0.05, 0.05, 0.05, 0.04666666666666667, 0.05, 0.04666666666666667, 0.05, 0.05, 0.05333333333333334, 0.05, 0.05333333333333334, 0.05333333333333334, 0.05, 0.043333333333333335, 0.05, 0.04666666666666667, 0.05, 0.05, 0.05, 0.04666666666666667, 0.05333333333333334, 0.04666666666666667, 0.05, 0.05, 0.05333333333333334, 0.05, 0.05, 0.043333333333333335, 0.05333333333333334, 0.05, 0.06, 0.056666666666666664, 0.06, 0.056666666666666664, 0.05333333333333334]\n",
      "[0.08, 0.07666666666666666, 0.07666666666666666, 0.07333333333333333, 0.07, 0.07, 0.06666666666666667, 0.06666666666666667, 0.06333333333333334, 0.056666666666666664, 0.056666666666666664, 0.05333333333333334, 0.05, 0.05333333333333334, 0.05333333333333334, 0.05, 0.05, 0.05, 0.05333333333333334, 0.05, 0.05333333333333334, 0.056666666666666664, 0.05333333333333334, 0.056666666666666664, 0.05333333333333334, 0.05333333333333334, 0.05, 0.05, 0.05, 0.05, 0.05, 0.05, 0.05, 0.04666666666666667, 0.05, 0.04666666666666667, 0.05, 0.05, 0.05333333333333334, 0.05, 0.05333333333333334, 0.05333333333333334, 0.05, 0.043333333333333335, 0.05, 0.04666666666666667, 0.05, 0.05, 0.05, 0.04666666666666667, 0.05333333333333334, 0.04666666666666667, 0.05, 0.05, 0.05333333333333334, 0.05, 0.05, 0.043333333333333335, 0.05333333333333334, 0.05, 0.06, 0.056666666666666664, 0.06, 0.056666666666666664, 0.05333333333333334, 0.056666666666666664]\n"
     ]
    },
    {
     "name": "stdout",
     "output_type": "stream",
     "text": [
      "[0.08, 0.07666666666666666, 0.07666666666666666, 0.07333333333333333, 0.07, 0.07, 0.06666666666666667, 0.06666666666666667, 0.06333333333333334, 0.056666666666666664, 0.056666666666666664, 0.05333333333333334, 0.05, 0.05333333333333334, 0.05333333333333334, 0.05, 0.05, 0.05, 0.05333333333333334, 0.05, 0.05333333333333334, 0.056666666666666664, 0.05333333333333334, 0.056666666666666664, 0.05333333333333334, 0.05333333333333334, 0.05, 0.05, 0.05, 0.05, 0.05, 0.05, 0.05, 0.04666666666666667, 0.05, 0.04666666666666667, 0.05, 0.05, 0.05333333333333334, 0.05, 0.05333333333333334, 0.05333333333333334, 0.05, 0.043333333333333335, 0.05, 0.04666666666666667, 0.05, 0.05, 0.05, 0.04666666666666667, 0.05333333333333334, 0.04666666666666667, 0.05, 0.05, 0.05333333333333334, 0.05, 0.05, 0.043333333333333335, 0.05333333333333334, 0.05, 0.06, 0.056666666666666664, 0.06, 0.056666666666666664, 0.05333333333333334, 0.056666666666666664, 0.05333333333333334]\n",
      "[0.08, 0.07666666666666666, 0.07666666666666666, 0.07333333333333333, 0.07, 0.07, 0.06666666666666667, 0.06666666666666667, 0.06333333333333334, 0.056666666666666664, 0.056666666666666664, 0.05333333333333334, 0.05, 0.05333333333333334, 0.05333333333333334, 0.05, 0.05, 0.05, 0.05333333333333334, 0.05, 0.05333333333333334, 0.056666666666666664, 0.05333333333333334, 0.056666666666666664, 0.05333333333333334, 0.05333333333333334, 0.05, 0.05, 0.05, 0.05, 0.05, 0.05, 0.05, 0.04666666666666667, 0.05, 0.04666666666666667, 0.05, 0.05, 0.05333333333333334, 0.05, 0.05333333333333334, 0.05333333333333334, 0.05, 0.043333333333333335, 0.05, 0.04666666666666667, 0.05, 0.05, 0.05, 0.04666666666666667, 0.05333333333333334, 0.04666666666666667, 0.05, 0.05, 0.05333333333333334, 0.05, 0.05, 0.043333333333333335, 0.05333333333333334, 0.05, 0.06, 0.056666666666666664, 0.06, 0.056666666666666664, 0.05333333333333334, 0.056666666666666664, 0.05333333333333334, 0.05333333333333334]\n",
      "[0.08, 0.07666666666666666, 0.07666666666666666, 0.07333333333333333, 0.07, 0.07, 0.06666666666666667, 0.06666666666666667, 0.06333333333333334, 0.056666666666666664, 0.056666666666666664, 0.05333333333333334, 0.05, 0.05333333333333334, 0.05333333333333334, 0.05, 0.05, 0.05, 0.05333333333333334, 0.05, 0.05333333333333334, 0.056666666666666664, 0.05333333333333334, 0.056666666666666664, 0.05333333333333334, 0.05333333333333334, 0.05, 0.05, 0.05, 0.05, 0.05, 0.05, 0.05, 0.04666666666666667, 0.05, 0.04666666666666667, 0.05, 0.05, 0.05333333333333334, 0.05, 0.05333333333333334, 0.05333333333333334, 0.05, 0.043333333333333335, 0.05, 0.04666666666666667, 0.05, 0.05, 0.05, 0.04666666666666667, 0.05333333333333334, 0.04666666666666667, 0.05, 0.05, 0.05333333333333334, 0.05, 0.05, 0.043333333333333335, 0.05333333333333334, 0.05, 0.06, 0.056666666666666664, 0.06, 0.056666666666666664, 0.05333333333333334, 0.056666666666666664, 0.05333333333333334, 0.05333333333333334, 0.05333333333333334]\n",
      "[0.08, 0.07666666666666666, 0.07666666666666666, 0.07333333333333333, 0.07, 0.07, 0.06666666666666667, 0.06666666666666667, 0.06333333333333334, 0.056666666666666664, 0.056666666666666664, 0.05333333333333334, 0.05, 0.05333333333333334, 0.05333333333333334, 0.05, 0.05, 0.05, 0.05333333333333334, 0.05, 0.05333333333333334, 0.056666666666666664, 0.05333333333333334, 0.056666666666666664, 0.05333333333333334, 0.05333333333333334, 0.05, 0.05, 0.05, 0.05, 0.05, 0.05, 0.05, 0.04666666666666667, 0.05, 0.04666666666666667, 0.05, 0.05, 0.05333333333333334, 0.05, 0.05333333333333334, 0.05333333333333334, 0.05, 0.043333333333333335, 0.05, 0.04666666666666667, 0.05, 0.05, 0.05, 0.04666666666666667, 0.05333333333333334, 0.04666666666666667, 0.05, 0.05, 0.05333333333333334, 0.05, 0.05, 0.043333333333333335, 0.05333333333333334, 0.05, 0.06, 0.056666666666666664, 0.06, 0.056666666666666664, 0.05333333333333334, 0.056666666666666664, 0.05333333333333334, 0.05333333333333334, 0.05333333333333334, 0.05]\n",
      "[0.08, 0.07666666666666666, 0.07666666666666666, 0.07333333333333333, 0.07, 0.07, 0.06666666666666667, 0.06666666666666667, 0.06333333333333334, 0.056666666666666664, 0.056666666666666664, 0.05333333333333334, 0.05, 0.05333333333333334, 0.05333333333333334, 0.05, 0.05, 0.05, 0.05333333333333334, 0.05, 0.05333333333333334, 0.056666666666666664, 0.05333333333333334, 0.056666666666666664, 0.05333333333333334, 0.05333333333333334, 0.05, 0.05, 0.05, 0.05, 0.05, 0.05, 0.05, 0.04666666666666667, 0.05, 0.04666666666666667, 0.05, 0.05, 0.05333333333333334, 0.05, 0.05333333333333334, 0.05333333333333334, 0.05, 0.043333333333333335, 0.05, 0.04666666666666667, 0.05, 0.05, 0.05, 0.04666666666666667, 0.05333333333333334, 0.04666666666666667, 0.05, 0.05, 0.05333333333333334, 0.05, 0.05, 0.043333333333333335, 0.05333333333333334, 0.05, 0.06, 0.056666666666666664, 0.06, 0.056666666666666664, 0.05333333333333334, 0.056666666666666664, 0.05333333333333334, 0.05333333333333334, 0.05333333333333334, 0.05]\n"
     ]
    }
   ],
   "source": [
    "error_rate=[]\n",
    "for i in range(1,71):\n",
    "    knn=KNeighborsClassifier(n_neighbors=i)\n",
    "    knn.fit(X_train,y_train)\n",
    "    ypred=knn.predict(X_test)\n",
    "    error_rate.append(np.mean(ypred!=y_test))\n",
    "    print(error_rate)\n",
    "print(error_rate)"
   ]
  },
  {
   "cell_type": "code",
   "execution_count": 66,
   "metadata": {},
   "outputs": [
    {
     "data": {
      "text/plain": [
       "[<matplotlib.lines.Line2D at 0x84f7bd0>]"
      ]
     },
     "execution_count": 66,
     "metadata": {},
     "output_type": "execute_result"
    },
    {
     "data": {
      "image/png": "[encoded data removed]",
      "text/plain": [
       "<Figure size 432x288 with 1 Axes>"
      ]
     },
     "metadata": {
      "needs_background": "light"
     },
     "output_type": "display_data"
    }
   ],
   "source": [
    "plt.plot(range(1,71),error_rate)"
   ]
  },
  {
   "cell_type": "code",
   "execution_count": 71,
   "metadata": {},
   "outputs": [
    {
     "data": {
      "text/plain": [
       "Text(0,0.5,'Error rate')"
      ]
     },
     "execution_count": 71,
     "metadata": {},
     "output_type": "execute_result"
    },
    {
     "data": {
      "image/png": "[encoded data removed]",
      "text/plain": [
       "<Figure size 864x576 with 1 Axes>"
      ]
     },
     "metadata": {
      "needs_background": "light"
     },
     "output_type": "display_data"
    }
   ],
   "source": [
    "plt.figure(figsize=(12,8))\n",
    "plt.plot(range(1,71),error_rate,color='green',linestyle='dashed', marker='o',\n",
    "         markerfacecolor='red', markersize=10)\n",
    "plt.title('Error rate vs K value')\n",
    "plt.xlabel('K')\n",
    "plt.ylabel('Error rate')"
   ]
  },
  {
   "cell_type": "code",
   "execution_count": 1,
   "metadata": {},
   "outputs": [],
   "source": [
    "from sklearn.metrics import classification_report,confusion_matrix"
   ]
  },
  {
   "cell_type": "code",
   "execution_count": 2,
   "metadata": {},
   "outputs": [
    {
     "ename": "NameError",
     "evalue": "name 'KNeighborsClassifier' is not defined",
     "output_type": "error",
     "traceback": [
      "\u001b[1;31m---------------------------------------------------------------------------\u001b[0m",
      "\u001b[1;31mNameError\u001b[0m                                 Traceback (most recent call last)",
      "\u001b[1;32m<ipython-input-2-524c36825d77>\u001b[0m in \u001b[0;36m<module>\u001b[1;34m()\u001b[0m\n\u001b[1;32m----> 1\u001b[1;33m \u001b[0mknn\u001b[0m \u001b[1;33m=\u001b[0m \u001b[0mKNeighborsClassifier\u001b[0m\u001b[1;33m(\u001b[0m\u001b[0mn_neighbors\u001b[0m\u001b[1;33m=\u001b[0m\u001b[1;36m26\u001b[0m\u001b[1;33m)\u001b[0m\u001b[1;33m\u001b[0m\u001b[0m\n\u001b[0m\u001b[0;32m      2\u001b[0m \u001b[0mknn\u001b[0m\u001b[1;33m.\u001b[0m\u001b[0mfit\u001b[0m\u001b[1;33m(\u001b[0m\u001b[0mX_train\u001b[0m\u001b[1;33m,\u001b[0m\u001b[0my_train\u001b[0m\u001b[1;33m)\u001b[0m\u001b[1;33m\u001b[0m\u001b[0m\n\u001b[0;32m      3\u001b[0m \u001b[0mpred\u001b[0m \u001b[1;33m=\u001b[0m \u001b[0mknn\u001b[0m\u001b[1;33m.\u001b[0m\u001b[0mpredict\u001b[0m\u001b[1;33m(\u001b[0m\u001b[0mX_test\u001b[0m\u001b[1;33m)\u001b[0m\u001b[1;33m\u001b[0m\u001b[0m\n\u001b[0;32m      4\u001b[0m \u001b[1;33m\u001b[0m\u001b[0m\n\u001b[0;32m      5\u001b[0m \u001b[0mprint\u001b[0m\u001b[1;33m(\u001b[0m\u001b[1;34m'WITH K=26'\u001b[0m\u001b[1;33m)\u001b[0m\u001b[1;33m\u001b[0m\u001b[0m\n",
      "\u001b[1;31mNameError\u001b[0m: name 'KNeighborsClassifier' is not defined"
     ]
    }
   ],
   "source": [
    "knn = KNeighborsClassifier(n_neighbors=26)\n",
    "knn.fit(X_train,y_train)\n",
    "pred = knn.predict(X_test)\n",
    "\n",
    "print('WITH K=26')\n",
    "print('\\n')\n",
    "print(confusion_matrix(y_test,pred))\n",
    "print('\\n')\n",
    "print(classification_report(y_test,pred))"
   ]
  },
  {
   "cell_type": "code",
   "execution_count": null,
   "metadata": {},
   "outputs": [],
   "source": []
  },
  {
   "cell_type": "code",
   "execution_count": 59,
   "metadata": {},
   "outputs": [
    {
     "name": "stdout",
     "output_type": "stream",
     "text": [
      "[[145   9]\n",
      " [  6 140]]\n"
     ]
    }
   ],
   "source": [
    "z=confusion_matrix(y_test,ypred)\n",
    "print(z)"
   ]
  },
  {
   "cell_type": "code",
   "execution_count": 61,
   "metadata": {},
   "outputs": [
    {
     "name": "stdout",
     "output_type": "stream",
     "text": [
      "             precision    recall  f1-score   support\n",
      "\n",
      "          0       0.96      0.94      0.95       154\n",
      "          1       0.94      0.96      0.95       146\n",
      "\n",
      "avg / total       0.95      0.95      0.95       300\n",
      "\n"
     ]
    }
   ],
   "source": [
    "cr=classification_report(y_test,ypred)\n",
    "\n",
    "print(cr)"
   ]
  },
  {
   "cell_type": "code",
   "execution_count": 63,
   "metadata": {},
   "outputs": [
    {
     "data": {
      "text/html": [
       "<div>\n",
       "<style scoped>\n",
       "    .dataframe tbody tr th:only-of-type {\n",
       "        vertical-align: middle;\n",
       "    }\n",
       "\n",
       "    .dataframe tbody tr th {\n",
       "        vertical-align: top;\n",
       "    }\n",
       "\n",
       "    .dataframe thead th {\n",
       "        text-align: right;\n",
       "    }\n",
       "</style>\n",
       "<table border=\"1\" class=\"dataframe\">\n",
       "  <thead>\n",
       "    <tr style=\"text-align: right;\">\n",
       "      <th></th>\n",
       "      <th>0</th>\n",
       "      <th>1</th>\n",
       "    </tr>\n",
       "  </thead>\n",
       "  <tbody>\n",
       "    <tr>\n",
       "      <th>0</th>\n",
       "      <td>145</td>\n",
       "      <td>9</td>\n",
       "    </tr>\n",
       "    <tr>\n",
       "      <th>1</th>\n",
       "      <td>6</td>\n",
       "      <td>140</td>\n",
       "    </tr>\n",
       "  </tbody>\n",
       "</table>\n",
       "</div>"
      ],
      "text/plain": [
       "     0    1\n",
       "0  145    9\n",
       "1    6  140"
      ]
     },
     "execution_count": 63,
     "metadata": {},
     "output_type": "execute_result"
    }
   ],
   "source": [
    "df=pd.DataFrame(z)\n",
    "df"
   ]
  },
  {
   "cell_type": "code",
   "execution_count": 65,
   "metadata": {},
   "outputs": [
    {
     "data": {
      "text/plain": [
       "<matplotlib.axes._subplots.AxesSubplot at 0xa08caf0>"
      ]
     },
     "execution_count": 65,
     "metadata": {},
     "output_type": "execute_result"
    },
    {
     "data": {
      "image/png": "[encoded data removed]",
      "text/plain": [
       "<Figure size 432x288 with 2 Axes>"
      ]
     },
     "metadata": {
      "needs_background": "light"
     },
     "output_type": "display_data"
    }
   ],
   "source": [
    "sns.heatmap(df,annot=True)"
   ]
  },
  {
   "cell_type": "code",
   "execution_count": null,
   "metadata": {},
   "outputs": [],
   "source": []
  }
 ],
 "metadata": {
  "kernelspec": {
   "display_name": "Python 3",
   "language": "python",
   "name": "python3"
  },
  "language_info": {
   "codemirror_mode": {
    "name": "ipython",
    "version": 3
   },
   "file_extension": ".py",
   "mimetype": "text/x-python",
   "name": "python",
   "nbconvert_exporter": "python",
   "pygments_lexer": "ipython3",
   "version": "3.8.8"
  }
 },
 "nbformat": 4,
 "nbformat_minor": 2
}
