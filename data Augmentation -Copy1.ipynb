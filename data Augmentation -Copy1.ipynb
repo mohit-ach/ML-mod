{
 "cells": [
  {
   "cell_type": "code",
   "execution_count": 8,
   "id": "f0012a49",
   "metadata": {},
   "outputs": [],
   "source": [
    "from keras.preprocessing.image import ImageDataGenerator,array_to_img ,img_to_array , load_img"
   ]
  },
  {
   "cell_type": "code",
   "execution_count": null,
   "id": "4e2a7ccf",
   "metadata": {},
   "outputs": [],
   "source": [
    "#the data augmentation\n",
    "Datagen = ImageDataGenerator()"
   ]
  },
  {
   "cell_type": "code",
   "execution_count": null,
   "id": "ed978dc7",
   "metadata": {},
   "outputs": [],
   "source": [
    "datagen= ImageDataGenerator(rotation_range=40,\n",
    "width_shift_range=0.2,\n",
    "height_shift_range=0.2,\n",
    "shear_range=0.2,\n",
    "zoom_range=0.2,\n",
    "fill_mode='nearest',          \n",
    "horizontal_flip=True)\n"
   ]
  },
  {
   "cell_type": "code",
   "execution_count": null,
   "id": "40c99b45",
   "metadata": {},
   "outputs": [],
   "source": [
    "img= load_img('catdog/cat1.jpg')"
   ]
  },
  {
   "cell_type": "code",
   "execution_count": 15,
   "id": "a59e6ffe",
   "metadata": {},
   "outputs": [
    {
     "data": {
      "text/plain": [
       "array([[[217., 221., 233.],\n",
       "        [218., 222., 234.],\n",
       "        [219., 223., 235.],\n",
       "        ...,\n",
       "        [224., 228., 240.],\n",
       "        [225., 229., 241.],\n",
       "        [225., 229., 241.]],\n",
       "\n",
       "       [[218., 222., 234.],\n",
       "        [219., 223., 235.],\n",
       "        [220., 224., 236.],\n",
       "        ...,\n",
       "        [223., 227., 239.],\n",
       "        [224., 228., 240.],\n",
       "        [224., 228., 240.]],\n",
       "\n",
       "       [[220., 224., 236.],\n",
       "        [220., 224., 236.],\n",
       "        [221., 225., 237.],\n",
       "        ...,\n",
       "        [220., 224., 236.],\n",
       "        [221., 225., 237.],\n",
       "        [223., 227., 239.]],\n",
       "\n",
       "       ...,\n",
       "\n",
       "       [[207., 121.,  88.],\n",
       "        [191., 104.,  74.],\n",
       "        [198., 111.,  83.],\n",
       "        ...,\n",
       "        [216., 149., 130.],\n",
       "        [216., 157., 141.],\n",
       "        [212., 159., 143.]],\n",
       "\n",
       "       [[190., 103.,  73.],\n",
       "        [191., 104.,  76.],\n",
       "        [207., 122.,  93.],\n",
       "        ...,\n",
       "        [227., 164., 149.],\n",
       "        [225., 172., 158.],\n",
       "        [219., 171., 159.]],\n",
       "\n",
       "       [[182.,  95.,  67.],\n",
       "        [194., 107.,  79.],\n",
       "        [216., 130., 103.],\n",
       "        ...,\n",
       "        [232., 173., 159.],\n",
       "        [231., 179., 166.],\n",
       "        [222., 178., 167.]]], dtype=float32)"
      ]
     },
     "execution_count": 15,
     "metadata": {},
     "output_type": "execute_result"
    }
   ],
   "source": [
    "x=img_to_array(img)\n",
    "x"
   ]
  },
  {
   "cell_type": "code",
   "execution_count": 16,
   "id": "c24e6aee",
   "metadata": {},
   "outputs": [
    {
     "data": {
      "text/plain": [
       "(1600, 1071, 3)"
      ]
     },
     "execution_count": 16,
     "metadata": {},
     "output_type": "execute_result"
    }
   ],
   "source": [
    "x.shape                                                                 "
   ]
  },
  {
   "cell_type": "code",
   "execution_count": 17,
   "id": "41b5459b",
   "metadata": {},
   "outputs": [
    {
     "data": {
      "text/plain": [
       "array([[[[217., 221., 233.],\n",
       "         [218., 222., 234.],\n",
       "         [219., 223., 235.],\n",
       "         ...,\n",
       "         [224., 228., 240.],\n",
       "         [225., 229., 241.],\n",
       "         [225., 229., 241.]],\n",
       "\n",
       "        [[218., 222., 234.],\n",
       "         [219., 223., 235.],\n",
       "         [220., 224., 236.],\n",
       "         ...,\n",
       "         [223., 227., 239.],\n",
       "         [224., 228., 240.],\n",
       "         [224., 228., 240.]],\n",
       "\n",
       "        [[220., 224., 236.],\n",
       "         [220., 224., 236.],\n",
       "         [221., 225., 237.],\n",
       "         ...,\n",
       "         [220., 224., 236.],\n",
       "         [221., 225., 237.],\n",
       "         [223., 227., 239.]],\n",
       "\n",
       "        ...,\n",
       "\n",
       "        [[207., 121.,  88.],\n",
       "         [191., 104.,  74.],\n",
       "         [198., 111.,  83.],\n",
       "         ...,\n",
       "         [216., 149., 130.],\n",
       "         [216., 157., 141.],\n",
       "         [212., 159., 143.]],\n",
       "\n",
       "        [[190., 103.,  73.],\n",
       "         [191., 104.,  76.],\n",
       "         [207., 122.,  93.],\n",
       "         ...,\n",
       "         [227., 164., 149.],\n",
       "         [225., 172., 158.],\n",
       "         [219., 171., 159.]],\n",
       "\n",
       "        [[182.,  95.,  67.],\n",
       "         [194., 107.,  79.],\n",
       "         [216., 130., 103.],\n",
       "         ...,\n",
       "         [232., 173., 159.],\n",
       "         [231., 179., 166.],\n",
       "         [222., 178., 167.]]]], dtype=float32)"
      ]
     },
     "execution_count": 17,
     "metadata": {},
     "output_type": "execute_result"
    }
   ],
   "source": [
    "x=x.reshape((1,) +x.shape)\n",
    "\n",
    "x "
   ]
  },
  {
   "cell_type": "code",
   "execution_count": 18,
   "id": "5194335b",
   "metadata": {},
   "outputs": [
    {
     "data": {
      "text/plain": [
       "(1, 1600, 1071, 3)"
      ]
     },
     "execution_count": 18,
     "metadata": {},
     "output_type": "execute_result"
    }
   ],
   "source": [
    "x.shape        \n"
   ]
  },
  {
   "cell_type": "code",
   "execution_count": 19,
   "id": "fc0ffc3e",
   "metadata": {},
   "outputs": [],
   "source": [
    "i=0\n",
    "for batch in datagen.flow(x,batch_size=1,save_to_dir='preview',save_prefix='billi',save_format='jpeg'):\n",
    "    i+=1\n",
    "    if i > 20:           \n",
    "        break"
   ]
  },
  {
   "cell_type": "code",
   "execution_count": 9,
   "id": "48032055",
   "metadata": {},
   "outputs": [
    {
     "name": "stdout",
     "output_type": "stream",
     "text": [
      "0\n",
      "5\n",
      "10\n"
     ]
    }
   ],
   "source": [
    "for i in range(11):\n",
    "    if i%5==0:\n",
    "        print(i) "
   ]
  },
  {
   "cell_type": "code",
   "execution_count": null,
   "id": "f21a257b",
   "metadata": {},
   "outputs": [],
   "source": []
  },
  {
   "cell_type": "code",
   "execution_count": null,
   "id": "71617867",
   "metadata": {},
   "outputs": [],
   "source": []
  },
  {
   "cell_type": "code",
   "execution_count": null,
   "id": "cdf1d506",
   "metadata": {},
   "outputs": [],
   "source": []
  },
  {
   "cell_type": "code",
   "execution_count": null,
   "id": "f1983ccc",
   "metadata": {},
   "outputs": [],
   "source": []
  },
  {
   "cell_type": "code",
   "execution_count": null,
   "id": "c78f9266",
   "metadata": {},
   "outputs": [],
   "source": []
  },
  {
   "cell_type": "code",
   "execution_count": null,
   "id": "40050cd4",
   "metadata": {},
   "outputs": [],
   "source": []
  },
  {
   "cell_type": "code",
   "execution_count": null,
   "id": "5f145501",
   "metadata": {},
   "outputs": [],
   "source": []
  },
  {
   "cell_type": "code",
   "execution_count": null,
   "id": "b4c014b3",
   "metadata": {},
   "outputs": [],
   "source": []
  },
  {
   "cell_type": "code",
   "execution_count": null,
   "id": "6de7bb21",
   "metadata": {},
   "outputs": [],
   "source": []
  },
  {
   "cell_type": "code",
   "execution_count": null,
   "id": "24f05e47",
   "metadata": {},
   "outputs": [],
   "source": []
  },
  {
   "cell_type": "code",
   "execution_count": null,
   "id": "912b36ee",
   "metadata": {},
   "outputs": [],
   "source": []
  },
  {
   "cell_type": "code",
   "execution_count": null,
   "id": "a80ba55d",
   "metadata": {},
   "outputs": [],
   "source": []
  },
  {
   "cell_type": "code",
   "execution_count": null,
   "id": "ff784b8f",
   "metadata": {},
   "outputs": [],
   "source": []
  },
  {
   "cell_type": "code",
   "execution_count": null,
   "id": "24cc68bc",
   "metadata": {},
   "outputs": [],
   "source": []
  },
  {
   "cell_type": "code",
   "execution_count": null,
   "id": "4d2e446d",
   "metadata": {},
   "outputs": [],
   "source": []
  },
  {
   "cell_type": "code",
   "execution_count": null,
   "id": "2de8dde4",
   "metadata": {},
   "outputs": [],
   "source": []
  },
  {
   "cell_type": "code",
   "execution_count": 36,
   "id": "29e4a18f",
   "metadata": {},
   "outputs": [],
   "source": [
    " "
   ]
  },
  {
   "cell_type": "code",
   "execution_count": 36,
   "id": "bdc76328",
   "metadata": {},
   "outputs": [],
   "source": [
    " "
   ]
  },
  {
   "cell_type": "code",
   "execution_count": 36,
   "id": "76441287",
   "metadata": {},
   "outputs": [],
   "source": [
    " "
   ]
  },
  {
   "cell_type": "code",
   "execution_count": null,
   "id": "3614eb61",
   "metadata": {},
   "outputs": [],
   "source": []
  },
  {
   "cell_type": "code",
   "execution_count": null,
   "id": "374c4ebf",
   "metadata": {},
   "outputs": [],
   "source": []
  },
  {
   "cell_type": "code",
   "execution_count": null,
   "id": "5dbbec11",
   "metadata": {},
   "outputs": [],
   "source": []
  },
  {
   "cell_type": "code",
   "execution_count": null,
   "id": "ff06e5e1",
   "metadata": {},
   "outputs": [],
   "source": [
    "     "
   ]
  },
  {
   "cell_type": "code",
   "execution_count": null,
   "id": "ab002e9c",
   "metadata": {},
   "outputs": [],
   "source": []
  }
 ],
 "metadata": {
  "kernelspec": {
   "display_name": "Python 3",
   "language": "python",
   "name": "python3"
  },
  "language_info": {
   "codemirror_mode": {
    "name": "ipython",
    "version": 3
   },
   "file_extension": ".py",
   "mimetype": "text/x-python",
   "name": "python",
   "nbconvert_exporter": "python",
   "pygments_lexer": "ipython3",
   "version": "3.8.8"
  }
 },
 "nbformat": 4,
 "nbformat_minor": 5
}
